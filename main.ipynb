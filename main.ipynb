{
 "cells": [
  {
   "cell_type": "code",
   "execution_count": null,
   "metadata": {},
   "outputs": [],
   "source": [
    "# pip install tensorflow opencv-python mediapipe sklearn matplotlib"
   ]
  },
  {
   "cell_type": "code",
   "execution_count": 3,
   "metadata": {},
   "outputs": [],
   "source": [
    "import cv2\n",
    "import mediapipe as mp\n",
    "import numpy as np\n",
    "import os\n",
    "import time\n",
    "from matplotlib import pyplot as plt"
   ]
  },
  {
   "cell_type": "code",
   "execution_count": 4,
   "metadata": {},
   "outputs": [],
   "source": [
    "mp_holistic = mp.solutions.holistic\n",
    "mp_drawing = mp.solutions.drawing_utils"
   ]
  },
  {
   "cell_type": "code",
   "execution_count": 5,
   "metadata": {},
   "outputs": [],
   "source": [
    "def mediapipe_detection(image, model):\n",
    "    image = cv2.cvtColor(image, cv2.COLOR_BGR2RGB) # COLOR CONVERSION BGR 2 RGB\n",
    "    image.flags.writeable = False                  # Image is no longer writeable\n",
    "    results = model.process(image)                 # Make prediction\n",
    "    image.flags.writeable = True                   # Image is now writeable \n",
    "    image = cv2.cvtColor(image, cv2.COLOR_RGB2BGR) # COLOR COVERSION RGB 2 BGR\n",
    "    return image, results"
   ]
  },
  {
   "cell_type": "code",
   "execution_count": 6,
   "metadata": {},
   "outputs": [],
   "source": [
    "def draw_styled_landmarks(image, results):\n",
    "    # Draw face connections\n",
    "    mp_drawing.draw_landmarks(image, results.face_landmarks, mp_holistic.FACEMESH_TESSELATION, mp_drawing.DrawingSpec(color=(80,110,10), thickness=1, circle_radius=1), mp_drawing.DrawingSpec(color=(80,256,121), thickness=1, circle_radius=1)) \n",
    "    # Draw pose connections\n",
    "    mp_drawing.draw_landmarks(image, results.pose_landmarks, mp_holistic.POSE_CONNECTIONS, mp_drawing.DrawingSpec(color=(80,22,10), thickness=2, circle_radius=4), mp_drawing.DrawingSpec(color=(80,44,121), thickness=2, circle_radius=2)) \n",
    "    # Draw left hand connections\n",
    "    mp_drawing.draw_landmarks(image, results.left_hand_landmarks, mp_holistic.HAND_CONNECTIONS, mp_drawing.DrawingSpec(color=(121,22,76), thickness=2, circle_radius=4), mp_drawing.DrawingSpec(color=(121,44,250), thickness=2, circle_radius=2)) \n",
    "    # Draw right hand connections  \n",
    "    mp_drawing.draw_landmarks(image, results.right_hand_landmarks, mp_holistic.HAND_CONNECTIONS, mp_drawing.DrawingSpec(color=(245,117,66), thickness=2, circle_radius=4), mp_drawing.DrawingSpec(color=(245,66,230), thickness=2, circle_radius=2)) "
   ]
  },
  {
   "cell_type": "code",
   "execution_count": 7,
   "metadata": {},
   "outputs": [],
   "source": [
    "def extract_keypoints(results):\n",
    "    pose = np.array([[res.x, res.y, res.z, res.visibility] for res in results.pose_landmarks.landmark]).flatten() if results.pose_landmarks else np.zeros(33*4)\n",
    "    face = np.array([[res.x, res.y, res.z] for res in results.face_landmarks.landmark]).flatten() if results.face_landmarks else np.zeros(468*3)\n",
    "    lh = np.array([[res.x, res.y, res.z] for res in results.left_hand_landmarks.landmark]).flatten() if results.left_hand_landmarks else np.zeros(21*3)\n",
    "    rh = np.array([[res.x, res.y, res.z] for res in results.right_hand_landmarks.landmark]).flatten() if results.right_hand_landmarks else np.zeros(21*3)\n",
    "    return np.concatenate([pose, face, lh, rh])"
   ]
  },
  {
   "cell_type": "code",
   "execution_count": 21,
   "metadata": {},
   "outputs": [
    {
     "name": "stdout",
     "output_type": "stream",
     "text": [
      "Video ID :  69241\n",
      "Video ID :  65225  does not exist\n",
      "Video ID :  68011  does not exist\n",
      "Video ID :  68208  does not exist\n",
      "Video ID :  68012  does not exist\n",
      "Video ID :  70266  does not exist\n",
      "Video ID :  07085  does not exist\n",
      "Video ID :  07086  does not exist\n",
      "Video ID :  07087  does not exist\n",
      "Video ID :  07069\n",
      "Video ID :  07088  does not exist\n",
      "Video ID :  07089  does not exist\n",
      "Video ID :  07090  does not exist\n",
      "Video ID :  07091  does not exist\n",
      "Video ID :  07068\n",
      "Video ID :  07097  does not exist\n",
      "Video ID :  07070\n",
      "Video ID :  07071  does not exist\n",
      "Video ID :  07073  does not exist\n",
      "Video ID :  67424  does not exist\n",
      "Video ID :  07074\n",
      "Video ID :  07075  does not exist\n",
      "Video ID :  07076  does not exist\n",
      "Video ID :  07077  does not exist\n",
      "Video ID :  07078  does not exist\n",
      "Video ID :  07079  does not exist\n",
      "Video ID :  07080  does not exist\n",
      "Video ID :  07081  does not exist\n",
      "Video ID :  07082  does not exist\n",
      "Video ID :  07084  does not exist\n",
      "Video ID :  65539\n",
      "Video ID :  68660  does not exist\n",
      "Video ID :  68041  does not exist\n",
      "Video ID :  17725  does not exist\n",
      "Video ID :  17726  does not exist\n",
      "Video ID :  17727  does not exist\n",
      "Video ID :  17728  does not exist\n",
      "Video ID :  17710\n",
      "Video ID :  17729  does not exist\n",
      "Video ID :  17731  does not exist\n",
      "Video ID :  17732  does not exist\n",
      "Video ID :  17733\n",
      "Video ID :  65540\n",
      "Video ID :  17711\n",
      "Video ID :  17712\n",
      "Video ID :  17714  does not exist\n",
      "Video ID :  17715  does not exist\n",
      "Video ID :  17717  does not exist\n",
      "Video ID :  17709\n",
      "Video ID :  67594  does not exist\n",
      "Video ID :  17719  does not exist\n",
      "Video ID :  17720\n",
      "Video ID :  17721\n",
      "Video ID :  17722\n",
      "Video ID :  17723\n",
      "Video ID :  68028  does not exist\n",
      "Video ID :  69054  does not exist\n",
      "Video ID :  12328\n",
      "Video ID :  12329  does not exist\n",
      "Video ID :  12330  does not exist\n",
      "Video ID :  12331  does not exist\n",
      "Video ID :  12311\n",
      "Video ID :  12337  does not exist\n",
      "Video ID :  12338\n",
      "Video ID :  12313\n",
      "Video ID :  12314\n",
      "Video ID :  12316\n",
      "Video ID :  12317\n",
      "Video ID :  12318\n",
      "Video ID :  12319\n",
      "Video ID :  12321  does not exist\n",
      "Video ID :  12322  does not exist\n",
      "Video ID :  12323  does not exist\n",
      "Video ID :  12324  does not exist\n",
      "Video ID :  12327\n"
     ]
    }
   ],
   "source": [
    "import json\n",
    "\n",
    "with open('archive/WLASL.json') as f:\n",
    "    data = json.load(f)\n",
    "\n",
    "counter2 = 0\n",
    "for i in data:\n",
    "    gloss = i['gloss']\n",
    "    counter = 0\n",
    "    for inst in i['instances']:\n",
    "        split = inst['split']\n",
    "\n",
    "        if split == 'train':\n",
    "            videoID = inst['video_id']\n",
    "            # check if video exists\n",
    "            if os.path.isfile('archive/videos/' + videoID + '.mp4'):\n",
    "                print(\"Video ID : \", videoID)\n",
    "                with mp_holistic.Holistic(min_detection_confidence=0.5, min_tracking_confidence=0.5) as holistic:\n",
    "                    cap = cv2.VideoCapture('archive/videos/' + videoID + '.mp4')\n",
    "                    frameRate = cap.get(2)\n",
    "                    filename = 0\n",
    "                    while (cap.isOpened()):\n",
    "                        frameId = cap.get(1)\n",
    "                        ret, frame = cap.read()\n",
    "                        if ret != True:\n",
    "                            break\n",
    "                        if (frameId % ((int(frameRate)+1)) == 0):\n",
    "                            image, results = mediapipe_detection(frame, holistic)\n",
    "                            draw_styled_landmarks(image, results)\n",
    "                            length = int(cap.get(cv2.CAP_PROP_FRAME_COUNT))\n",
    "                            keypoints = extract_keypoints(results)\n",
    "                            npy_path = os.path.join(\"train\", gloss, str(counter) ,str(frameId) + \".npy\")\n",
    "                            if not os.path.exists(os.path.dirname(npy_path)):\n",
    "                                os.makedirs(os.path.dirname(npy_path))\n",
    "                            np.save(npy_path, keypoints)\n",
    "                    counter+=1\n",
    "            else:\n",
    "                print(\"Video ID : \", videoID, \" does not exist\")\n",
    "                    \n",
    "    cap.release()\n",
    "    cv2.destroyAllWindows()\n",
    "    \n",
    "    if counter2 == 2:\n",
    "        break\n",
    "    counter2+=1\n"
   ]
  },
  {
   "cell_type": "code",
   "execution_count": 23,
   "metadata": {},
   "outputs": [
    {
     "ename": "ModuleNotFoundError",
     "evalue": "No module named 'tensorflow'",
     "output_type": "error",
     "traceback": [
      "\u001b[1;31m---------------------------------------------------------------------------\u001b[0m",
      "\u001b[1;31mModuleNotFoundError\u001b[0m                       Traceback (most recent call last)",
      "Cell \u001b[1;32mIn[23], line 2\u001b[0m\n\u001b[0;32m      1\u001b[0m \u001b[39mfrom\u001b[39;00m \u001b[39msklearn\u001b[39;00m\u001b[39m.\u001b[39;00m\u001b[39mmodel_selection\u001b[39;00m \u001b[39mimport\u001b[39;00m train_test_split\n\u001b[1;32m----> 2\u001b[0m \u001b[39mfrom\u001b[39;00m \u001b[39mtensorflow\u001b[39;00m\u001b[39m.\u001b[39;00m\u001b[39mkeras\u001b[39;00m\u001b[39m.\u001b[39;00m\u001b[39mutils\u001b[39;00m \u001b[39mimport\u001b[39;00m to_categorical\n",
      "\u001b[1;31mModuleNotFoundError\u001b[0m: No module named 'tensorflow'"
     ]
    }
   ],
   "source": [
    "from sklearn.model_selection import train_test_split\n",
    "from tensorflow.keras.utils import to_categorical"
   ]
  },
  {
   "cell_type": "code",
   "execution_count": null,
   "metadata": {},
   "outputs": [],
   "source": [
    "actions = [\"book\", \"computer\", \"drink\"]\n",
    "label_map = {label:num for num, label in enumerate(actions)}"
   ]
  }
 ],
 "metadata": {
  "kernelspec": {
   "display_name": "fyp1",
   "language": "python",
   "name": "python3"
  },
  "language_info": {
   "codemirror_mode": {
    "name": "ipython",
    "version": 3
   },
   "file_extension": ".py",
   "mimetype": "text/x-python",
   "name": "python",
   "nbconvert_exporter": "python",
   "pygments_lexer": "ipython3",
   "version": "3.9.15"
  },
  "orig_nbformat": 4,
  "vscode": {
   "interpreter": {
    "hash": "c227822bf2d24d32d6a4e252b721ed8dc5c04f3b649b14b7fd668c354137b8e8"
   }
  }
 },
 "nbformat": 4,
 "nbformat_minor": 2
}
