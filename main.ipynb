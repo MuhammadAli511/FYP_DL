{
 "cells": [
  {
   "cell_type": "code",
   "execution_count": null,
   "metadata": {},
   "outputs": [],
   "source": [
    "# pip install tensorflow opencv-python mediapipe sklearn matplotlib"
   ]
  },
  {
   "cell_type": "code",
   "execution_count": 1,
   "metadata": {},
   "outputs": [],
   "source": [
    "import cv2\n",
    "import mediapipe as mp\n",
    "import numpy as np\n",
    "import os\n",
    "import time\n",
    "from matplotlib import pyplot as plt"
   ]
  },
  {
   "cell_type": "code",
   "execution_count": 2,
   "metadata": {},
   "outputs": [],
   "source": [
    "mp_hollistic = mp.solutions.holistic\n",
    "mp_drawing = mp.solutions.drawing_utils"
   ]
  },
  {
   "cell_type": "code",
   "execution_count": 16,
   "metadata": {},
   "outputs": [],
   "source": [
    "# reaad video and save frames\n",
    "cap = cv2.VideoCapture('00431.mp4') # video path\n",
    "frameRate = cap.get(2) # frame rate\n",
    "\n",
    "while(cap.isOpened()):\n",
    "    frameId = cap.get(1) # current frame number\n",
    "    ret, frame = cap.read() # read frame\n",
    "    if ret != True:\n",
    "        break\n",
    "    if (frameId % ((int(frameRate)+1)*2) == 0): # save every 2 seconds\n",
    "        # save to a folder\n",
    "        filename = 'frames1/frame' + str(int(frameId)) + '.jpg'\n",
    "        cv2.imwrite(filename, frame)\n",
    "\n",
    "\n",
    "cap.release()\n",
    "cv2.destroyAllWindows()"
   ]
  },
  {
   "cell_type": "code",
   "execution_count": null,
   "metadata": {},
   "outputs": [],
   "source": []
  }
 ],
 "metadata": {
  "kernelspec": {
   "display_name": "FYP_DL",
   "language": "python",
   "name": "python3"
  },
  "language_info": {
   "codemirror_mode": {
    "name": "ipython",
    "version": 3
   },
   "file_extension": ".py",
   "mimetype": "text/x-python",
   "name": "python",
   "nbconvert_exporter": "python",
   "pygments_lexer": "ipython3",
   "version": "3.9.15"
  },
  "orig_nbformat": 4,
  "vscode": {
   "interpreter": {
    "hash": "ac050e49952ec1b7b0bd58fce9fcb3a5e04871be4b51563f8100e7a06aa9704d"
   }
  }
 },
 "nbformat": 4,
 "nbformat_minor": 2
}
