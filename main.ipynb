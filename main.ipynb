{
 "cells": [
  {
   "cell_type": "code",
   "execution_count": null,
   "metadata": {},
   "outputs": [],
   "source": [
    "# pip install tensorflow opencv-python mediapipe sklearn matplotlib"
   ]
  },
  {
   "cell_type": "code",
   "execution_count": 161,
   "metadata": {},
   "outputs": [],
   "source": [
    "import cv2\n",
    "import mediapipe as mp\n",
    "import numpy as np\n",
    "import os\n",
    "import time\n",
    "from matplotlib import pyplot as plt"
   ]
  },
  {
   "cell_type": "code",
   "execution_count": 162,
   "metadata": {},
   "outputs": [],
   "source": [
    "mp_holistic = mp.solutions.holistic\n",
    "mp_drawing = mp.solutions.drawing_utils"
   ]
  },
  {
   "cell_type": "code",
   "execution_count": 163,
   "metadata": {},
   "outputs": [],
   "source": [
    "def mediapipe_detection(image, model):\n",
    "    image = cv2.cvtColor(image, cv2.COLOR_BGR2RGB) # COLOR CONVERSION BGR 2 RGB\n",
    "    image.flags.writeable = False                  # Image is no longer writeable\n",
    "    results = model.process(image)                 # Make prediction\n",
    "    image.flags.writeable = True                   # Image is now writeable \n",
    "    image = cv2.cvtColor(image, cv2.COLOR_RGB2BGR) # COLOR COVERSION RGB 2 BGR\n",
    "    return image, results"
   ]
  },
  {
   "cell_type": "code",
   "execution_count": 164,
   "metadata": {},
   "outputs": [],
   "source": [
    "def draw_styled_landmarks(image, results):\n",
    "    # Draw face connections\n",
    "    mp_drawing.draw_landmarks(image, results.face_landmarks, mp_holistic.FACEMESH_TESSELATION, mp_drawing.DrawingSpec(color=(80,110,10), thickness=1, circle_radius=1), mp_drawing.DrawingSpec(color=(80,256,121), thickness=1, circle_radius=1)) \n",
    "    # Draw pose connections\n",
    "    mp_drawing.draw_landmarks(image, results.pose_landmarks, mp_holistic.POSE_CONNECTIONS, mp_drawing.DrawingSpec(color=(80,22,10), thickness=2, circle_radius=4), mp_drawing.DrawingSpec(color=(80,44,121), thickness=2, circle_radius=2)) \n",
    "    # Draw left hand connections\n",
    "    mp_drawing.draw_landmarks(image, results.left_hand_landmarks, mp_holistic.HAND_CONNECTIONS, mp_drawing.DrawingSpec(color=(121,22,76), thickness=2, circle_radius=4), mp_drawing.DrawingSpec(color=(121,44,250), thickness=2, circle_radius=2)) \n",
    "    # Draw right hand connections  \n",
    "    mp_drawing.draw_landmarks(image, results.right_hand_landmarks, mp_holistic.HAND_CONNECTIONS, mp_drawing.DrawingSpec(color=(245,117,66), thickness=2, circle_radius=4), mp_drawing.DrawingSpec(color=(245,66,230), thickness=2, circle_radius=2)) "
   ]
  },
  {
   "cell_type": "code",
   "execution_count": 165,
   "metadata": {},
   "outputs": [],
   "source": [
    "def extract_keypoints(results):\n",
    "    pose = np.array([[res.x, res.y, res.z, res.visibility] for res in results.pose_landmarks.landmark]).flatten() if results.pose_landmarks else np.zeros(33*4)\n",
    "    face = np.array([[res.x, res.y, res.z] for res in results.face_landmarks.landmark]).flatten() if results.face_landmarks else np.zeros(468*3)\n",
    "    lh = np.array([[res.x, res.y, res.z] for res in results.left_hand_landmarks.landmark]).flatten() if results.left_hand_landmarks else np.zeros(21*3)\n",
    "    rh = np.array([[res.x, res.y, res.z] for res in results.right_hand_landmarks.landmark]).flatten() if results.right_hand_landmarks else np.zeros(21*3)\n",
    "    return np.concatenate([pose, face, lh, rh])"
   ]
  },
  {
   "cell_type": "code",
   "execution_count": 219,
   "metadata": {},
   "outputs": [
    {
     "name": "stdout",
     "output_type": "stream",
     "text": [
      "Video ID :  69241\n",
      "Total Frames:  75.0\n",
      "Video ID :  65225  does not exist\n",
      "Video ID :  68011  does not exist\n",
      "Video ID :  68208  does not exist\n",
      "Video ID :  68012  does not exist\n",
      "Video ID :  70212  does not exist\n",
      "Video ID :  70266  does not exist\n",
      "Video ID :  07085  does not exist\n",
      "Video ID :  07086  does not exist\n",
      "Video ID :  07087  does not exist\n",
      "Video ID :  07069\n",
      "Total Frames:  30.0\n",
      "Video ID :  07088  does not exist\n",
      "Video ID :  07089  does not exist\n",
      "Video ID :  07090  does not exist\n",
      "Video ID :  07091  does not exist\n",
      "Video ID :  07092  does not exist\n",
      "Video ID :  07093  does not exist\n",
      "Video ID :  07068\n",
      "Total Frames:  68.0\n",
      "Video ID :  07094  does not exist\n",
      "Video ID :  07095  does not exist\n",
      "Video ID :  07096  does not exist\n",
      "Video ID :  07097  does not exist\n",
      "Video ID :  07070\n",
      "Total Frames:  86.0\n",
      "Video ID :  07098  does not exist\n",
      "Video ID :  07099\n",
      "Total Frames:  87.0\n",
      "Video ID :  07071  does not exist\n",
      "Video ID :  07072  does not exist\n",
      "Video ID :  07073  does not exist\n",
      "Video ID :  67424  does not exist\n",
      "Video ID :  07074\n",
      "Total Frames:  41.0\n",
      "Video ID :  07075  does not exist\n",
      "Video ID :  07076  does not exist\n",
      "Video ID :  07077  does not exist\n",
      "Video ID :  07078  does not exist\n",
      "Video ID :  07079  does not exist\n",
      "Video ID :  07080  does not exist\n",
      "Video ID :  07081  does not exist\n",
      "Video ID :  07082  does not exist\n",
      "Video ID :  07083  does not exist\n",
      "Video ID :  07084  does not exist\n",
      "Video ID :  69302\n",
      "Total Frames:  77.0\n",
      "Video ID :  65539\n",
      "Total Frames:  44.0\n",
      "Video ID :  70173  does not exist\n",
      "Video ID :  68538  does not exist\n",
      "Video ID :  68042  does not exist\n",
      "Video ID :  68660  does not exist\n",
      "Video ID :  68041  does not exist\n",
      "Video ID :  17725  does not exist\n",
      "Video ID :  17726  does not exist\n",
      "Video ID :  17727  does not exist\n",
      "Video ID :  17728  does not exist\n",
      "Video ID :  17710\n",
      "Total Frames:  70.0\n",
      "Video ID :  17729  does not exist\n",
      "Video ID :  17730  does not exist\n",
      "Video ID :  17731  does not exist\n",
      "Video ID :  17732  does not exist\n",
      "Video ID :  17733\n",
      "Total Frames:  93.0\n",
      "Video ID :  65540\n",
      "Total Frames:  46.0\n",
      "Video ID :  17734\n",
      "Total Frames:  89.0\n",
      "Video ID :  17711\n",
      "Total Frames:  81.0\n",
      "Video ID :  17712\n",
      "Total Frames:  43.0\n",
      "Video ID :  17713\n",
      "Total Frames:  91.0\n",
      "Video ID :  17714  does not exist\n",
      "Video ID :  17715  does not exist\n",
      "Video ID :  17716  does not exist\n",
      "Video ID :  17717  does not exist\n",
      "Video ID :  17718  does not exist\n",
      "Video ID :  17709\n",
      "Total Frames:  105.0\n",
      "Video ID :  67594  does not exist\n",
      "Video ID :  17719  does not exist\n",
      "Video ID :  17720\n",
      "Total Frames:  41.0\n",
      "Video ID :  17721\n",
      "Total Frames:  49.0\n",
      "Video ID :  17722\n",
      "Total Frames:  49.0\n",
      "Video ID :  17723\n",
      "Total Frames:  60.0\n",
      "Video ID :  17724\n",
      "Total Frames:  30.0\n",
      "Video ID :  12306  does not exist\n",
      "Video ID :  68028  does not exist\n",
      "Video ID :  69054  does not exist\n",
      "Video ID :  12328\n",
      "Total Frames:  88.0\n",
      "Video ID :  12329  does not exist\n",
      "Video ID :  12330  does not exist\n",
      "Video ID :  12312\n",
      "Total Frames:  101.0\n",
      "Video ID :  12331  does not exist\n",
      "Video ID :  12332  does not exist\n",
      "Video ID :  12333  does not exist\n",
      "Video ID :  12335  does not exist\n",
      "Video ID :  12336  does not exist\n",
      "Video ID :  12311\n",
      "Total Frames:  72.0\n",
      "Video ID :  12337  does not exist\n",
      "Video ID :  12338\n",
      "Total Frames:  107.0\n",
      "Video ID :  12313\n",
      "Total Frames:  81.0\n",
      "Video ID :  12314\n",
      "Total Frames:  43.0\n",
      "Video ID :  12315\n",
      "Total Frames:  57.0\n",
      "Video ID :  12316\n",
      "Total Frames:  43.0\n",
      "Video ID :  12317\n",
      "Total Frames:  53.0\n",
      "Video ID :  12318\n",
      "Total Frames:  45.0\n",
      "Video ID :  12319\n",
      "Total Frames:  40.0\n",
      "Video ID :  12320\n",
      "Total Frames:  102.0\n",
      "Video ID :  67519  does not exist\n",
      "Video ID :  12321  does not exist\n",
      "Video ID :  12322  does not exist\n",
      "Video ID :  12323  does not exist\n",
      "Video ID :  12324  does not exist\n",
      "Video ID :  12326\n",
      "Total Frames:  73.0\n",
      "Video ID :  12327\n",
      "Total Frames:  46.0\n"
     ]
    }
   ],
   "source": [
    "import json\n",
    "\n",
    "with open('archive/WLASL.json') as f:\n",
    "    data = json.load(f)\n",
    "\n",
    "counter2 = 0\n",
    "for i in data:\n",
    "    gloss = i['gloss']\n",
    "    counter = 0\n",
    "    for inst in i['instances']:\n",
    "        videoID = inst['video_id']\n",
    "        # check if video exists\n",
    "        if os.path.isfile('archive/videos/' + videoID + '.mp4'):\n",
    "            print(\"Video ID : \", videoID)\n",
    "            with mp_holistic.Holistic(min_detection_confidence=0.5, min_tracking_confidence=0.5) as holistic:\n",
    "                cap = cv2.VideoCapture('archive/videos/' + videoID + '.mp4')\n",
    "                frameRate = cap.get(2)\n",
    "                filename = 0\n",
    "                totalFrames = cap.get(cv2.CAP_PROP_FRAME_COUNT)\n",
    "                print(\"Total Frames: \", totalFrames)\n",
    "\n",
    "                frameCounter = 0\n",
    "                while (cap.isOpened()):\n",
    "                    frameId = cap.get(1)\n",
    "                    ret, frame = cap.read()\n",
    "                    if ret != True:\n",
    "                        break\n",
    "                    if (frameId % ((int(frameRate)+1)) == 0):\n",
    "                        image, results = mediapipe_detection(frame, holistic)\n",
    "                        draw_styled_landmarks(image, results)\n",
    "                        length = int(cap.get(cv2.CAP_PROP_FRAME_COUNT))\n",
    "                        keypoints = extract_keypoints(results)\n",
    "                        frameId = int(frameId)\n",
    "                        npy_path = os.path.join(\"train\", gloss, str(counter) ,str(frameCounter) + \".npy\")\n",
    "                        if not os.path.exists(os.path.dirname(npy_path)):\n",
    "                            os.makedirs(os.path.dirname(npy_path))\n",
    "                        np.save(npy_path, keypoints)\n",
    "                        frameCounter+=1\n",
    "                counter+=1\n",
    "        else:\n",
    "            print(\"Video ID : \", videoID, \" does not exist\")\n",
    "    \n",
    "    if counter2 == 2:\n",
    "        break\n",
    "    counter2+=1\n",
    "                    \n",
    "    cap.release()\n",
    "    cv2.destroyAllWindows()\n",
    "    \n"
   ]
  },
  {
   "cell_type": "code",
   "execution_count": 220,
   "metadata": {},
   "outputs": [],
   "source": [
    "from sklearn.model_selection import train_test_split\n",
    "from tensorflow.keras.utils import to_categorical"
   ]
  },
  {
   "cell_type": "code",
   "execution_count": 221,
   "metadata": {},
   "outputs": [
    {
     "data": {
      "text/plain": [
       "{'book': 0, 'drink': 1, 'computer': 2}"
      ]
     },
     "execution_count": 221,
     "metadata": {},
     "output_type": "execute_result"
    }
   ],
   "source": [
    "actions = np.array([\"book\", \"drink\", \"computer\"])\n",
    "label_map = {label:num for num, label in enumerate(actions)}\n",
    "label_map"
   ]
  },
  {
   "cell_type": "code",
   "execution_count": 246,
   "metadata": {},
   "outputs": [
    {
     "name": "stdout",
     "output_type": "stream",
     "text": [
      "Max Value :  107\n"
     ]
    }
   ],
   "source": [
    "from keras.utils import pad_sequences\n",
    "sequences, labels = [], []\n",
    "sizeArr = []\n",
    "DATA_PATH = os.path.join('train')\n",
    "counter = 0\n",
    "\n",
    "# create an array of size 1662 filled with -10\n",
    "temp = np.full((1662), -10)\n",
    "\n",
    "for action in actions:\n",
    "    for sequence in np.array(os.listdir(os.path.join(DATA_PATH, action))).astype(int):\n",
    "        window = []\n",
    "        frameCount = len(os.listdir(os.path.join(DATA_PATH, action, str(sequence))))\n",
    "        for frameNum in range(frameCount):\n",
    "            res = np.load(os.path.join(DATA_PATH, action, str(sequence), str(frameNum) + '.npy'))\n",
    "            window.append(res)\n",
    "            sizeArr.append(len(window))\n",
    "\n",
    "        while (len(window) < 107):\n",
    "            window.append(temp)\n",
    "        sequences.append(window)\n",
    "        labels.append(label_map[action])\n",
    "\n",
    "maxVal = max(sizeArr)\n",
    "print(\"Max Value : \",maxVal)\n"
   ]
  },
  {
   "cell_type": "code",
   "execution_count": 247,
   "metadata": {},
   "outputs": [
    {
     "data": {
      "text/plain": [
       "(35, 107, 1662)"
      ]
     },
     "execution_count": 247,
     "metadata": {},
     "output_type": "execute_result"
    }
   ],
   "source": [
    "np.array(sequences).shape"
   ]
  },
  {
   "cell_type": "code",
   "execution_count": 248,
   "metadata": {},
   "outputs": [
    {
     "data": {
      "text/plain": [
       "(35,)"
      ]
     },
     "execution_count": 248,
     "metadata": {},
     "output_type": "execute_result"
    }
   ],
   "source": [
    "np.array(labels).shape"
   ]
  },
  {
   "cell_type": "code",
   "execution_count": 249,
   "metadata": {},
   "outputs": [],
   "source": [
    "X = np.array(sequences)"
   ]
  },
  {
   "cell_type": "code",
   "execution_count": 250,
   "metadata": {},
   "outputs": [],
   "source": [
    "y = to_categorical(labels).astype(int)"
   ]
  },
  {
   "cell_type": "code",
   "execution_count": 251,
   "metadata": {},
   "outputs": [],
   "source": [
    "X_train, X_test, y_train, y_test = train_test_split(X, y, test_size=0.05)"
   ]
  },
  {
   "attachments": {},
   "cell_type": "markdown",
   "metadata": {},
   "source": [
    "Build and Train LSTM Neural Network"
   ]
  },
  {
   "cell_type": "code",
   "execution_count": 260,
   "metadata": {},
   "outputs": [],
   "source": [
    "from tensorflow.keras.models import Sequential\n",
    "from tensorflow.keras.layers import LSTM, Dense, Masking\n",
    "from tensorflow.keras.callbacks import TensorBoard\n",
    "from tensorflow.keras import regularizers"
   ]
  },
  {
   "cell_type": "code",
   "execution_count": 253,
   "metadata": {},
   "outputs": [],
   "source": [
    "log_dir = os.path.join('Logs')\n",
    "tb_callback = TensorBoard(log_dir=log_dir)"
   ]
  },
  {
   "cell_type": "code",
   "execution_count": 261,
   "metadata": {},
   "outputs": [],
   "source": [
    "# create a lstm model with backpropagation for continuous data\n",
    "# model = Sequential()\n",
    "# model.add(Masking(mask_value=-10, input_shape=(None, 1662)))\n",
    "# model.add(LSTM(128, return_sequences=True))\n",
    "# model.add(LSTM(128, return_sequences=True))\n",
    "# model.add(LSTM(128, return_sequences=True))\n",
    "# model.add(LSTM(128))\n",
    "# model.add(Dense(actions.shape[0], activation='softmax'))\n",
    "\n",
    "\n",
    "# model = Sequential()\n",
    "# model.add(Masking(mask_value=-10, input_shape=(None, 1662)))\n",
    "# model.add(LSTM(64, return_sequences=True, activation='relu'))\n",
    "# model.add(LSTM(128, return_sequences=True, activation='relu'))\n",
    "# model.add(LSTM(64, return_sequences=False, activation='relu'))\n",
    "# model.add(Dense(64, activation='relu'))\n",
    "# model.add(Dense(32, activation='relu'))\n",
    "# model.add(Dense(16, activation='relu'))\n",
    "# model.add(Dense(8, activation='relu'))\n",
    "# model.add(Dense(4, activation='relu'))\n",
    "# model.add(Dense(2, activation='relu'))\n",
    "# model.add(Dense(actions.shape[0], activation='softmax'))\n",
    "\n",
    "\n",
    "# create a lstm model with backpropagation and regularization for continuous data\n",
    "model = Sequential()\n",
    "model.add(Masking(mask_value=-10, input_shape=(None, 1662)))\n",
    "model.add(LSTM(64, return_sequences=True, activation='relu', kernel_regularizer=regularizers.l2(0.01), recurrent_regularizer=regularizers.l2(0.01), bias_regularizer=regularizers.l2(0.01)))\n",
    "model.add(LSTM(128, return_sequences=True, activation='relu', kernel_regularizer=regularizers.l2(0.01), recurrent_regularizer=regularizers.l2(0.01), bias_regularizer=regularizers.l2(0.01)))\n",
    "model.add(LSTM(64, return_sequences=False, activation='relu', kernel_regularizer=regularizers.l2(0.01), recurrent_regularizer=regularizers.l2(0.01), bias_regularizer=regularizers.l2(0.01)))\n",
    "model.add(Dense(64, activation='relu', kernel_regularizer=regularizers.l2(0.01), bias_regularizer=regularizers.l2(0.01)))\n",
    "model.add(Dense(32, activation='relu', kernel_regularizer=regularizers.l2(0.01), bias_regularizer=regularizers.l2(0.01)))\n",
    "model.add(Dense(actions.shape[0], activation='softmax'))"
   ]
  },
  {
   "cell_type": "code",
   "execution_count": 262,
   "metadata": {},
   "outputs": [],
   "source": [
    "model.compile(optimizer='Adam', loss='categorical_crossentropy', metrics=['categorical_accuracy'])"
   ]
  },
  {
   "cell_type": "code",
   "execution_count": 263,
   "metadata": {},
   "outputs": [
    {
     "name": "stdout",
     "output_type": "stream",
     "text": [
      "Epoch 1/100\n",
      "2/2 [==============================] - 4s 145ms/step - loss: 14.5389 - categorical_accuracy: 0.1515\n",
      "Epoch 2/100\n",
      "2/2 [==============================] - 0s 130ms/step - loss: 201.1411 - categorical_accuracy: 0.3939\n",
      "Epoch 3/100\n",
      "2/2 [==============================] - 0s 153ms/step - loss: 2075.1750 - categorical_accuracy: 0.4242\n",
      "Epoch 4/100\n",
      "2/2 [==============================] - 0s 125ms/step - loss: 31787.0078 - categorical_accuracy: 0.3030\n",
      "Epoch 5/100\n",
      "2/2 [==============================] - 0s 139ms/step - loss: 12367.8584 - categorical_accuracy: 0.3939\n",
      "Epoch 6/100\n",
      "2/2 [==============================] - 0s 149ms/step - loss: 54711.9688 - categorical_accuracy: 0.4545\n",
      "Epoch 7/100\n",
      "2/2 [==============================] - 0s 145ms/step - loss: 937979.0000 - categorical_accuracy: 0.3636\n",
      "Epoch 8/100\n",
      "2/2 [==============================] - 0s 145ms/step - loss: 184303.0625 - categorical_accuracy: 0.3030\n",
      "Epoch 9/100\n",
      "2/2 [==============================] - 1s 147ms/step - loss: 1162967.2500 - categorical_accuracy: 0.4242\n",
      "Epoch 10/100\n",
      "2/2 [==============================] - 0s 121ms/step - loss: 2854310.5000 - categorical_accuracy: 0.4545\n",
      "Epoch 11/100\n",
      "2/2 [==============================] - 0s 128ms/step - loss: 1783483.8750 - categorical_accuracy: 0.3333\n",
      "Epoch 12/100\n",
      "2/2 [==============================] - 0s 135ms/step - loss: 1850902.8750 - categorical_accuracy: 0.2424\n",
      "Epoch 13/100\n",
      "2/2 [==============================] - 0s 128ms/step - loss: 1790805.5000 - categorical_accuracy: 0.3939\n",
      "Epoch 14/100\n",
      "2/2 [==============================] - 0s 132ms/step - loss: 2478125.7500 - categorical_accuracy: 0.3030\n",
      "Epoch 15/100\n",
      "2/2 [==============================] - 0s 138ms/step - loss: 1068208.3750 - categorical_accuracy: 0.3333\n",
      "Epoch 16/100\n",
      "2/2 [==============================] - 0s 144ms/step - loss: 1540216.5000 - categorical_accuracy: 0.3333\n",
      "Epoch 17/100\n",
      "2/2 [==============================] - 1s 153ms/step - loss: 1373596.0000 - categorical_accuracy: 0.3030\n",
      "Epoch 18/100\n",
      "2/2 [==============================] - 0s 143ms/step - loss: 212951.6875 - categorical_accuracy: 0.3939\n",
      "Epoch 19/100\n",
      "2/2 [==============================] - 0s 151ms/step - loss: 347817.1875 - categorical_accuracy: 0.2121\n",
      "Epoch 20/100\n",
      "2/2 [==============================] - 1s 137ms/step - loss: 165502.4219 - categorical_accuracy: 0.4242\n",
      "Epoch 21/100\n",
      "2/2 [==============================] - 0s 136ms/step - loss: 37582.7656 - categorical_accuracy: 0.4545\n",
      "Epoch 22/100\n",
      "2/2 [==============================] - 0s 147ms/step - loss: 97406.9844 - categorical_accuracy: 0.3939\n",
      "Epoch 23/100\n",
      "2/2 [==============================] - 0s 131ms/step - loss: 50393.7070 - categorical_accuracy: 0.3636\n",
      "Epoch 24/100\n",
      "2/2 [==============================] - 0s 151ms/step - loss: 68311.6562 - categorical_accuracy: 0.4242\n",
      "Epoch 25/100\n",
      "2/2 [==============================] - 0s 129ms/step - loss: 40295.0508 - categorical_accuracy: 0.3333\n",
      "Epoch 26/100\n",
      "2/2 [==============================] - 0s 157ms/step - loss: 30959.2461 - categorical_accuracy: 0.2727\n",
      "Epoch 27/100\n",
      "2/2 [==============================] - 0s 147ms/step - loss: 41975.7109 - categorical_accuracy: 0.3030\n",
      "Epoch 28/100\n",
      "2/2 [==============================] - 0s 140ms/step - loss: 158704.6719 - categorical_accuracy: 0.4242\n",
      "Epoch 29/100\n",
      "2/2 [==============================] - 0s 137ms/step - loss: 192335.1406 - categorical_accuracy: 0.3333\n",
      "Epoch 30/100\n",
      "2/2 [==============================] - 0s 138ms/step - loss: 164243.2969 - categorical_accuracy: 0.3939\n",
      "Epoch 31/100\n",
      "2/2 [==============================] - 0s 123ms/step - loss: 640007.6250 - categorical_accuracy: 0.3636\n",
      "Epoch 32/100\n",
      "2/2 [==============================] - 0s 148ms/step - loss: 518888.9062 - categorical_accuracy: 0.3939\n",
      "Epoch 33/100\n",
      "2/2 [==============================] - 0s 135ms/step - loss: 651959.2500 - categorical_accuracy: 0.3030\n",
      "Epoch 34/100\n",
      "2/2 [==============================] - 0s 137ms/step - loss: 359704.4375 - categorical_accuracy: 0.2727\n",
      "Epoch 35/100\n",
      "2/2 [==============================] - 0s 136ms/step - loss: 430350.2812 - categorical_accuracy: 0.3333\n",
      "Epoch 36/100\n",
      "2/2 [==============================] - 1s 157ms/step - loss: 73918.0000 - categorical_accuracy: 0.4242\n",
      "Epoch 37/100\n",
      "2/2 [==============================] - 0s 145ms/step - loss: 295595.4375 - categorical_accuracy: 0.3636\n",
      "Epoch 38/100\n",
      "2/2 [==============================] - 0s 146ms/step - loss: 455006.7188 - categorical_accuracy: 0.3333\n",
      "Epoch 39/100\n",
      "2/2 [==============================] - 0s 143ms/step - loss: 1010342.6250 - categorical_accuracy: 0.3636\n",
      "Epoch 40/100\n",
      "2/2 [==============================] - 1s 144ms/step - loss: 3122851.0000 - categorical_accuracy: 0.3939\n",
      "Epoch 41/100\n",
      "2/2 [==============================] - 0s 131ms/step - loss: 402174.4375 - categorical_accuracy: 0.4242\n",
      "Epoch 42/100\n",
      "2/2 [==============================] - 0s 133ms/step - loss: 1206117.7500 - categorical_accuracy: 0.4242\n",
      "Epoch 43/100\n",
      "2/2 [==============================] - 0s 136ms/step - loss: 848264.8750 - categorical_accuracy: 0.3636\n",
      "Epoch 44/100\n",
      "2/2 [==============================] - 0s 141ms/step - loss: 416381.8438 - categorical_accuracy: 0.3333\n",
      "Epoch 45/100\n",
      "2/2 [==============================] - 0s 141ms/step - loss: 314222.6562 - categorical_accuracy: 0.4242\n",
      "Epoch 46/100\n",
      "2/2 [==============================] - 0s 144ms/step - loss: 372829.6562 - categorical_accuracy: 0.4242\n",
      "Epoch 47/100\n",
      "2/2 [==============================] - 1s 150ms/step - loss: 1231226.8750 - categorical_accuracy: 0.4242\n",
      "Epoch 48/100\n",
      "2/2 [==============================] - 0s 145ms/step - loss: 1124308.7500 - categorical_accuracy: 0.3939\n",
      "Epoch 49/100\n",
      "2/2 [==============================] - 0s 140ms/step - loss: 998358.8125 - categorical_accuracy: 0.3939\n",
      "Epoch 50/100\n",
      "2/2 [==============================] - 0s 130ms/step - loss: 886235.1875 - categorical_accuracy: 0.4242\n",
      "Epoch 51/100\n",
      "2/2 [==============================] - 0s 132ms/step - loss: 708477.6875 - categorical_accuracy: 0.4242\n",
      "Epoch 52/100\n",
      "2/2 [==============================] - 0s 139ms/step - loss: 465393.4688 - categorical_accuracy: 0.4242\n",
      "Epoch 53/100\n",
      "2/2 [==============================] - 0s 138ms/step - loss: 381202.6875 - categorical_accuracy: 0.4848\n",
      "Epoch 54/100\n",
      "2/2 [==============================] - 0s 132ms/step - loss: 933131.4375 - categorical_accuracy: 0.4242\n",
      "Epoch 55/100\n",
      "2/2 [==============================] - 0s 127ms/step - loss: 351899.7812 - categorical_accuracy: 0.5152\n",
      "Epoch 56/100\n",
      "2/2 [==============================] - 0s 129ms/step - loss: 348726.3125 - categorical_accuracy: 0.4848\n",
      "Epoch 57/100\n",
      "2/2 [==============================] - 0s 148ms/step - loss: 180218.8438 - categorical_accuracy: 0.3636\n",
      "Epoch 58/100\n",
      "2/2 [==============================] - 0s 145ms/step - loss: 363950.4688 - categorical_accuracy: 0.3939\n",
      "Epoch 59/100\n",
      "2/2 [==============================] - 0s 135ms/step - loss: 325289.5938 - categorical_accuracy: 0.3636\n",
      "Epoch 60/100\n",
      "2/2 [==============================] - 0s 138ms/step - loss: 392287.7188 - categorical_accuracy: 0.3939\n",
      "Epoch 61/100\n",
      "2/2 [==============================] - 0s 135ms/step - loss: 375849.6875 - categorical_accuracy: 0.3333\n",
      "Epoch 62/100\n",
      "2/2 [==============================] - 0s 125ms/step - loss: 265126.5000 - categorical_accuracy: 0.3939\n",
      "Epoch 63/100\n",
      "2/2 [==============================] - 0s 124ms/step - loss: 184954.1562 - categorical_accuracy: 0.3333\n",
      "Epoch 64/100\n",
      "2/2 [==============================] - 0s 126ms/step - loss: 519255.0938 - categorical_accuracy: 0.4545\n",
      "Epoch 65/100\n",
      "2/2 [==============================] - 0s 125ms/step - loss: 724490.3125 - categorical_accuracy: 0.4545\n",
      "Epoch 66/100\n",
      "2/2 [==============================] - 0s 126ms/step - loss: 618504.5625 - categorical_accuracy: 0.4545\n",
      "Epoch 67/100\n",
      "2/2 [==============================] - 0s 137ms/step - loss: 228251.4062 - categorical_accuracy: 0.4848\n",
      "Epoch 68/100\n",
      "2/2 [==============================] - 0s 143ms/step - loss: 127359.5938 - categorical_accuracy: 0.3030\n",
      "Epoch 69/100\n",
      "2/2 [==============================] - 0s 139ms/step - loss: 206899.4062 - categorical_accuracy: 0.3939\n",
      "Epoch 70/100\n",
      "2/2 [==============================] - 0s 138ms/step - loss: 70629.7500 - categorical_accuracy: 0.3939\n",
      "Epoch 71/100\n",
      "2/2 [==============================] - 0s 136ms/step - loss: 743399.6250 - categorical_accuracy: 0.3636\n",
      "Epoch 72/100\n",
      "2/2 [==============================] - 0s 129ms/step - loss: 873508.4375 - categorical_accuracy: 0.3333\n",
      "Epoch 73/100\n",
      "2/2 [==============================] - 0s 123ms/step - loss: 1020228.1250 - categorical_accuracy: 0.4242\n",
      "Epoch 74/100\n",
      "2/2 [==============================] - 0s 125ms/step - loss: 1105261.6250 - categorical_accuracy: 0.4545\n",
      "Epoch 75/100\n",
      "2/2 [==============================] - 0s 124ms/step - loss: 931438.6250 - categorical_accuracy: 0.4242\n",
      "Epoch 76/100\n",
      "2/2 [==============================] - 0s 127ms/step - loss: 33001.2930 - categorical_accuracy: 0.4242\n",
      "Epoch 77/100\n",
      "2/2 [==============================] - 0s 130ms/step - loss: 213677.5312 - categorical_accuracy: 0.4242\n",
      "Epoch 78/100\n",
      "2/2 [==============================] - 0s 150ms/step - loss: 61452.8711 - categorical_accuracy: 0.3636\n",
      "Epoch 79/100\n",
      "2/2 [==============================] - 0s 140ms/step - loss: 138799.8125 - categorical_accuracy: 0.4242\n",
      "Epoch 80/100\n",
      "2/2 [==============================] - 0s 139ms/step - loss: 187206.5156 - categorical_accuracy: 0.4242\n",
      "Epoch 81/100\n",
      "2/2 [==============================] - 0s 139ms/step - loss: 183121.2344 - categorical_accuracy: 0.4242\n",
      "Epoch 82/100\n",
      "2/2 [==============================] - 0s 131ms/step - loss: 98798.1797 - categorical_accuracy: 0.4242\n",
      "Epoch 83/100\n",
      "2/2 [==============================] - 0s 132ms/step - loss: 29727.8652 - categorical_accuracy: 0.4242\n",
      "Epoch 84/100\n",
      "2/2 [==============================] - 0s 132ms/step - loss: 152521.8125 - categorical_accuracy: 0.3939\n",
      "Epoch 85/100\n",
      "2/2 [==============================] - 0s 138ms/step - loss: 198612.7969 - categorical_accuracy: 0.4242\n",
      "Epoch 86/100\n",
      "2/2 [==============================] - 0s 141ms/step - loss: 181929.9844 - categorical_accuracy: 0.4848\n",
      "Epoch 87/100\n",
      "2/2 [==============================] - 0s 129ms/step - loss: 110318.7656 - categorical_accuracy: 0.4848\n",
      "Epoch 88/100\n",
      "2/2 [==============================] - 1s 157ms/step - loss: 37592.0039 - categorical_accuracy: 0.4242\n",
      "Epoch 89/100\n",
      "2/2 [==============================] - 0s 138ms/step - loss: 69525.2656 - categorical_accuracy: 0.3939\n",
      "Epoch 90/100\n",
      "2/2 [==============================] - 0s 142ms/step - loss: 70542.3203 - categorical_accuracy: 0.3939\n",
      "Epoch 91/100\n",
      "2/2 [==============================] - 0s 141ms/step - loss: 51980.9258 - categorical_accuracy: 0.3636\n",
      "Epoch 92/100\n",
      "2/2 [==============================] - 0s 128ms/step - loss: 16483.1816 - categorical_accuracy: 0.4848\n",
      "Epoch 93/100\n",
      "2/2 [==============================] - 0s 125ms/step - loss: 17660.1680 - categorical_accuracy: 0.3939\n",
      "Epoch 94/100\n",
      "2/2 [==============================] - 0s 125ms/step - loss: 34756.0469 - categorical_accuracy: 0.4242\n",
      "Epoch 95/100\n",
      "2/2 [==============================] - 0s 127ms/step - loss: 17127.2246 - categorical_accuracy: 0.4848\n",
      "Epoch 96/100\n",
      "2/2 [==============================] - 0s 131ms/step - loss: 10027.0791 - categorical_accuracy: 0.4242\n",
      "Epoch 97/100\n",
      "2/2 [==============================] - 0s 129ms/step - loss: 44146.0156 - categorical_accuracy: 0.3939\n",
      "Epoch 98/100\n",
      "2/2 [==============================] - 0s 147ms/step - loss: 21740.4727 - categorical_accuracy: 0.4242\n",
      "Epoch 99/100\n",
      "2/2 [==============================] - 0s 144ms/step - loss: 38381.2812 - categorical_accuracy: 0.3333\n",
      "Epoch 100/100\n",
      "2/2 [==============================] - 0s 143ms/step - loss: 51500.5234 - categorical_accuracy: 0.3636\n"
     ]
    },
    {
     "data": {
      "text/plain": [
       "<keras.callbacks.History at 0x20d2075f4c0>"
      ]
     },
     "execution_count": 263,
     "metadata": {},
     "output_type": "execute_result"
    }
   ],
   "source": [
    "model.fit(X_train, y_train, epochs=100, callbacks=[tb_callback])"
   ]
  },
  {
   "cell_type": "code",
   "execution_count": 188,
   "metadata": {},
   "outputs": [
    {
     "name": "stdout",
     "output_type": "stream",
     "text": [
      "Model: \"sequential_9\"\n",
      "_________________________________________________________________\n",
      " Layer (type)                Output Shape              Param #   \n",
      "=================================================================\n",
      " masking_2 (Masking)         (None, None, 1662)        0         \n",
      "                                                                 \n",
      " lstm_27 (LSTM)              (None, None, 64)          442112    \n",
      "                                                                 \n",
      " lstm_28 (LSTM)              (None, None, 128)         98816     \n",
      "                                                                 \n",
      " lstm_29 (LSTM)              (None, 64)                49408     \n",
      "                                                                 \n",
      " dense_27 (Dense)            (None, 64)                4160      \n",
      "                                                                 \n",
      " dense_28 (Dense)            (None, 32)                2080      \n",
      "                                                                 \n",
      " dense_29 (Dense)            (None, 3)                 99        \n",
      "                                                                 \n",
      "=================================================================\n",
      "Total params: 596,675\n",
      "Trainable params: 596,675\n",
      "Non-trainable params: 0\n",
      "_________________________________________________________________\n"
     ]
    }
   ],
   "source": [
    "model.summary()"
   ]
  },
  {
   "cell_type": "code",
   "execution_count": 268,
   "metadata": {},
   "outputs": [
    {
     "name": "stdout",
     "output_type": "stream",
     "text": [
      "1/1 [==============================] - 0s 60ms/step\n"
     ]
    }
   ],
   "source": [
    "res = model.predict(X_test)"
   ]
  },
  {
   "cell_type": "code",
   "execution_count": 269,
   "metadata": {},
   "outputs": [],
   "source": [
    "model.save('action.h5')"
   ]
  },
  {
   "cell_type": "code",
   "execution_count": 270,
   "metadata": {},
   "outputs": [],
   "source": [
    "from sklearn.metrics import multilabel_confusion_matrix, accuracy_score"
   ]
  },
  {
   "cell_type": "code",
   "execution_count": 271,
   "metadata": {},
   "outputs": [
    {
     "name": "stdout",
     "output_type": "stream",
     "text": [
      "1/1 [==============================] - 0s 59ms/step\n"
     ]
    }
   ],
   "source": [
    "yhat = model.predict(X_test)"
   ]
  },
  {
   "cell_type": "code",
   "execution_count": 272,
   "metadata": {},
   "outputs": [],
   "source": [
    "ytrue = np.argmax(y_test, axis=1).tolist()\n",
    "yhat = np.argmax(yhat, axis=1).tolist()"
   ]
  },
  {
   "cell_type": "code",
   "execution_count": 273,
   "metadata": {},
   "outputs": [
    {
     "data": {
      "text/plain": [
       "0.5"
      ]
     },
     "execution_count": 273,
     "metadata": {},
     "output_type": "execute_result"
    }
   ],
   "source": [
    "accuracy_score(ytrue, yhat)"
   ]
  },
  {
   "cell_type": "code",
   "execution_count": 274,
   "metadata": {},
   "outputs": [],
   "source": [
    "colors = [(245,117,16), (117,245,16), (16,117,245)]\n",
    "def prob_viz(res, actions, input_frame, colors):\n",
    "    output_frame = input_frame.copy()\n",
    "    for num, prob in enumerate(res):\n",
    "        cv2.rectangle(output_frame, (0,60+num*40), (int(prob*100), 90+num*40), colors[num], -1)\n",
    "        cv2.putText(output_frame, actions[num], (0, 85+num*40), cv2.FONT_HERSHEY_SIMPLEX, 1, (255,255,255), 2, cv2.LINE_AA)\n",
    "        \n",
    "    return output_frame"
   ]
  },
  {
   "cell_type": "code",
   "execution_count": null,
   "metadata": {},
   "outputs": [],
   "source": [
    "sequence = []\n",
    "sentence = []\n",
    "predictions = []\n",
    "threshold = 0.5\n",
    "\n",
    "cap = cv2.VideoCapture(0)\n",
    "# Set mediapipe model \n",
    "with mp_holistic.Holistic(min_detection_confidence=0.5, min_tracking_confidence=0.5) as holistic:\n",
    "    while cap.isOpened():\n",
    "        print(\"Start\")\n",
    "\n",
    "        # Read feed\n",
    "        ret, frame = cap.read()\n",
    "\n",
    "        # Make detections\n",
    "        image, results = mediapipe_detection(frame, holistic)\n",
    "        \n",
    "        # Draw landmarks\n",
    "        draw_styled_landmarks(image, results)\n",
    "        \n",
    "        # 2. Prediction logic\n",
    "        keypoints = extract_keypoints(results)\n",
    "        sequence.append(keypoints)\n",
    "        sequence = sequence[-107:]\n",
    "\n",
    "        if len(sequence) == 107:\n",
    "            print(\"Predicting\")\n",
    "            res = model.predict(np.expand_dims(sequence, axis=0))[0]\n",
    "            print(actions[np.argmax(res)])\n",
    "            predictions.append(np.argmax(res))\n",
    "            print(predictions)\n",
    "            \n",
    "            \n",
    "        #3. Viz logic\n",
    "            if np.unique(predictions[-10:])[0]==np.argmax(res): \n",
    "                if res[np.argmax(res)] > threshold: \n",
    "                    \n",
    "                    if len(sentence) > 0: \n",
    "                        if actions[np.argmax(res)] != sentence[-1]:\n",
    "                            sentence.append(actions[np.argmax(res)])\n",
    "                    else:\n",
    "                        sentence.append(actions[np.argmax(res)])\n",
    "\n",
    "            if len(sentence) > 5: \n",
    "                sentence = sentence[-5:]\n",
    "\n",
    "            # Viz probabilities\n",
    "            image = prob_viz(res, actions, image, colors)\n",
    "            \n",
    "        cv2.rectangle(image, (0,0), (640, 40), (245, 117, 16), -1)\n",
    "        cv2.putText(image, ' '.join(sentence), (3,30), cv2.FONT_HERSHEY_SIMPLEX, 1, (255, 255, 255), 2, cv2.LINE_AA)\n",
    "        \n",
    "        # Show to screen\n",
    "        cv2.imshow('OpenCV Feed', image)\n",
    "\n",
    "        # Break gracefully\n",
    "        if cv2.waitKey(10) & 0xFF == ord('q'):\n",
    "            break\n",
    "    cap.release()\n",
    "    cv2.destroyAllWindows()"
   ]
  }
 ],
 "metadata": {
  "kernelspec": {
   "display_name": "fyp2",
   "language": "python",
   "name": "python3"
  },
  "language_info": {
   "codemirror_mode": {
    "name": "ipython",
    "version": 3
   },
   "file_extension": ".py",
   "mimetype": "text/x-python",
   "name": "python",
   "nbconvert_exporter": "python",
   "pygments_lexer": "ipython3",
   "version": "3.9.15 (main, Nov 24 2022, 14:39:17) [MSC v.1916 64 bit (AMD64)]"
  },
  "orig_nbformat": 4,
  "vscode": {
   "interpreter": {
    "hash": "4200ce2b7de31ce83a82abb042c2a901ce0ba3628e07f7c25b1e4bd3a2668fe1"
   }
  }
 },
 "nbformat": 4,
 "nbformat_minor": 2
}
