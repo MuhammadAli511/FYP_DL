{
 "cells": [
  {
   "cell_type": "code",
   "execution_count": null,
   "metadata": {},
   "outputs": [],
   "source": [
    "# pip install tensorflow opencv-python mediapipe sklearn matplotlib"
   ]
  },
  {
   "cell_type": "code",
   "execution_count": 2,
   "metadata": {},
   "outputs": [],
   "source": [
    "import cv2\n",
    "import mediapipe as mp\n",
    "import numpy as np\n",
    "import os\n",
    "import time\n",
    "from matplotlib import pyplot as plt"
   ]
  },
  {
   "cell_type": "code",
   "execution_count": 3,
   "metadata": {},
   "outputs": [],
   "source": [
    "mp_holistic = mp.solutions.holistic\n",
    "mp_drawing = mp.solutions.drawing_utils"
   ]
  },
  {
   "cell_type": "code",
   "execution_count": 4,
   "metadata": {},
   "outputs": [],
   "source": [
    "def mediapipe_detection(image, model):\n",
    "    image = cv2.cvtColor(image, cv2.COLOR_BGR2RGB) # COLOR CONVERSION BGR 2 RGB\n",
    "    image.flags.writeable = False                  # Image is no longer writeable\n",
    "    results = model.process(image)                 # Make prediction\n",
    "    image.flags.writeable = True                   # Image is now writeable \n",
    "    image = cv2.cvtColor(image, cv2.COLOR_RGB2BGR) # COLOR COVERSION RGB 2 BGR\n",
    "    return image, results"
   ]
  },
  {
   "cell_type": "code",
   "execution_count": 6,
   "metadata": {},
   "outputs": [],
   "source": [
    "def draw_styled_landmarks(image, results):\n",
    "    # Draw face connections\n",
    "    mp_drawing.draw_landmarks(image, results.face_landmarks, mp_holistic.FACEMESH_TESSELATION, mp_drawing.DrawingSpec(color=(80,110,10), thickness=1, circle_radius=1), mp_drawing.DrawingSpec(color=(80,256,121), thickness=1, circle_radius=1)) \n",
    "    # Draw pose connections\n",
    "    mp_drawing.draw_landmarks(image, results.pose_landmarks, mp_holistic.POSE_CONNECTIONS, mp_drawing.DrawingSpec(color=(80,22,10), thickness=2, circle_radius=4), mp_drawing.DrawingSpec(color=(80,44,121), thickness=2, circle_radius=2)) \n",
    "    # Draw left hand connections\n",
    "    mp_drawing.draw_landmarks(image, results.left_hand_landmarks, mp_holistic.HAND_CONNECTIONS, mp_drawing.DrawingSpec(color=(121,22,76), thickness=2, circle_radius=4), mp_drawing.DrawingSpec(color=(121,44,250), thickness=2, circle_radius=2)) \n",
    "    # Draw right hand connections  \n",
    "    mp_drawing.draw_landmarks(image, results.right_hand_landmarks, mp_holistic.HAND_CONNECTIONS, mp_drawing.DrawingSpec(color=(245,117,66), thickness=2, circle_radius=4), mp_drawing.DrawingSpec(color=(245,66,230), thickness=2, circle_radius=2)) "
   ]
  },
  {
   "cell_type": "code",
   "execution_count": 7,
   "metadata": {},
   "outputs": [],
   "source": [
    "def extract_keypoints(results):\n",
    "    pose = np.array([[res.x, res.y, res.z, res.visibility] for res in results.pose_landmarks.landmark]).flatten() if results.pose_landmarks else np.zeros(33*4)\n",
    "    face = np.array([[res.x, res.y, res.z] for res in results.face_landmarks.landmark]).flatten() if results.face_landmarks else np.zeros(468*3)\n",
    "    lh = np.array([[res.x, res.y, res.z] for res in results.left_hand_landmarks.landmark]).flatten() if results.left_hand_landmarks else np.zeros(21*3)\n",
    "    rh = np.array([[res.x, res.y, res.z] for res in results.right_hand_landmarks.landmark]).flatten() if results.right_hand_landmarks else np.zeros(21*3)\n",
    "    return np.concatenate([pose, face, lh, rh])"
   ]
  },
  {
   "cell_type": "code",
   "execution_count": 19,
   "metadata": {},
   "outputs": [
    {
     "name": "stdout",
     "output_type": "stream",
     "text": [
      "Video ID :  69241\n",
      "Total Frames:  75.0\n",
      "Video ID :  65225  does not exist\n",
      "Video ID :  68011  does not exist\n",
      "Video ID :  68208  does not exist\n",
      "Video ID :  68012  does not exist\n",
      "Video ID :  70212  does not exist\n",
      "Video ID :  70266  does not exist\n",
      "Video ID :  07085  does not exist\n",
      "Video ID :  07086  does not exist\n",
      "Video ID :  07087  does not exist\n",
      "Video ID :  07069\n",
      "Total Frames:  30.0\n",
      "Video ID :  07088  does not exist\n",
      "Video ID :  07089  does not exist\n",
      "Video ID :  07090  does not exist\n",
      "Video ID :  07091  does not exist\n",
      "Video ID :  07092  does not exist\n",
      "Video ID :  07093  does not exist\n",
      "Video ID :  07068\n",
      "Total Frames:  68.0\n",
      "Video ID :  07094  does not exist\n",
      "Video ID :  07095  does not exist\n",
      "Video ID :  07096  does not exist\n",
      "Video ID :  07097  does not exist\n",
      "Video ID :  07070\n",
      "Total Frames:  86.0\n",
      "Video ID :  07098  does not exist\n",
      "Video ID :  07099\n",
      "Total Frames:  87.0\n",
      "Video ID :  07071  does not exist\n",
      "Video ID :  07072  does not exist\n",
      "Video ID :  07073  does not exist\n",
      "Video ID :  67424  does not exist\n",
      "Video ID :  07074\n",
      "Total Frames:  41.0\n",
      "Video ID :  07075  does not exist\n",
      "Video ID :  07076  does not exist\n",
      "Video ID :  07077  does not exist\n",
      "Video ID :  07078  does not exist\n",
      "Video ID :  07079  does not exist\n",
      "Video ID :  07080  does not exist\n",
      "Video ID :  07081  does not exist\n",
      "Video ID :  07082  does not exist\n",
      "Video ID :  07083  does not exist\n",
      "Video ID :  07084  does not exist\n",
      "Video ID :  69302\n",
      "Total Frames:  77.0\n",
      "Video ID :  65539\n",
      "Total Frames:  44.0\n",
      "Video ID :  70173  does not exist\n",
      "Video ID :  68538  does not exist\n",
      "Video ID :  68042  does not exist\n",
      "Video ID :  68660  does not exist\n",
      "Video ID :  68041  does not exist\n",
      "Video ID :  17725  does not exist\n",
      "Video ID :  17726  does not exist\n",
      "Video ID :  17727  does not exist\n",
      "Video ID :  17728  does not exist\n",
      "Video ID :  17710\n",
      "Total Frames:  70.0\n",
      "Video ID :  17729  does not exist\n",
      "Video ID :  17730  does not exist\n",
      "Video ID :  17731  does not exist\n",
      "Video ID :  17732  does not exist\n",
      "Video ID :  17733\n",
      "Total Frames:  93.0\n",
      "Video ID :  65540\n",
      "Total Frames:  46.0\n",
      "Video ID :  17734\n",
      "Total Frames:  89.0\n",
      "Video ID :  17711\n",
      "Total Frames:  81.0\n",
      "Video ID :  17712\n",
      "Total Frames:  43.0\n",
      "Video ID :  17713\n",
      "Total Frames:  91.0\n",
      "Video ID :  17714  does not exist\n",
      "Video ID :  17715  does not exist\n",
      "Video ID :  17716  does not exist\n",
      "Video ID :  17717  does not exist\n",
      "Video ID :  17718  does not exist\n",
      "Video ID :  17709\n",
      "Total Frames:  105.0\n",
      "Video ID :  67594  does not exist\n",
      "Video ID :  17719  does not exist\n",
      "Video ID :  17720\n",
      "Total Frames:  41.0\n",
      "Video ID :  17721\n",
      "Total Frames:  49.0\n",
      "Video ID :  17722\n",
      "Total Frames:  49.0\n",
      "Video ID :  17723\n",
      "Total Frames:  60.0\n",
      "Video ID :  17724\n",
      "Total Frames:  30.0\n",
      "Video ID :  12306  does not exist\n",
      "Video ID :  68028  does not exist\n",
      "Video ID :  69054  does not exist\n",
      "Video ID :  12328\n",
      "Total Frames:  88.0\n",
      "Video ID :  12329  does not exist\n",
      "Video ID :  12330  does not exist\n",
      "Video ID :  12312\n",
      "Total Frames:  101.0\n",
      "Video ID :  12331  does not exist\n",
      "Video ID :  12332  does not exist\n",
      "Video ID :  12333  does not exist\n",
      "Video ID :  12335  does not exist\n",
      "Video ID :  12336  does not exist\n",
      "Video ID :  12311\n",
      "Total Frames:  72.0\n",
      "Video ID :  12337  does not exist\n",
      "Video ID :  12338\n",
      "Total Frames:  107.0\n",
      "Video ID :  12313\n",
      "Total Frames:  81.0\n",
      "Video ID :  12314\n",
      "Total Frames:  43.0\n",
      "Video ID :  12315\n",
      "Total Frames:  57.0\n",
      "Video ID :  12316\n",
      "Total Frames:  43.0\n",
      "Video ID :  12317\n",
      "Total Frames:  53.0\n",
      "Video ID :  12318\n",
      "Total Frames:  45.0\n",
      "Video ID :  12319\n",
      "Total Frames:  40.0\n",
      "Video ID :  12320\n",
      "Total Frames:  102.0\n",
      "Video ID :  67519  does not exist\n",
      "Video ID :  12321  does not exist\n",
      "Video ID :  12322  does not exist\n",
      "Video ID :  12323  does not exist\n",
      "Video ID :  12324  does not exist\n",
      "Video ID :  12326\n",
      "Total Frames:  73.0\n",
      "Video ID :  12327\n",
      "Total Frames:  46.0\n"
     ]
    }
   ],
   "source": [
    "import json\n",
    "\n",
    "with open('archive/WLASL.json') as f:\n",
    "    data = json.load(f)\n",
    "\n",
    "counter2 = 0\n",
    "for i in data:\n",
    "    gloss = i['gloss']\n",
    "    counter = 0\n",
    "    for inst in i['instances']:\n",
    "        videoID = inst['video_id']\n",
    "        # check if video exists\n",
    "        if os.path.isfile('archive/videos/' + videoID + '.mp4'):\n",
    "            print(\"Video ID : \", videoID)\n",
    "            with mp_holistic.Holistic(min_detection_confidence=0.5, min_tracking_confidence=0.5) as holistic:\n",
    "                cap = cv2.VideoCapture('archive/videos/' + videoID + '.mp4')\n",
    "                frameRate = cap.get(2)\n",
    "                filename = 0\n",
    "                totalFrames = cap.get(cv2.CAP_PROP_FRAME_COUNT)\n",
    "                print(\"Total Frames: \", totalFrames)\n",
    "\n",
    "                frameCounter = 0\n",
    "                while (cap.isOpened()):\n",
    "                    if frameCounter == 30:\n",
    "                        break\n",
    "                    frameId = cap.get(1)\n",
    "                    ret, frame = cap.read()\n",
    "                    if ret != True:\n",
    "                        break\n",
    "                    if (frameId % (int(totalFrames/30)) == 0):\n",
    "                        image, results = mediapipe_detection(frame, holistic)\n",
    "                        draw_styled_landmarks(image, results)\n",
    "                        length = int(cap.get(cv2.CAP_PROP_FRAME_COUNT))\n",
    "                        keypoints = extract_keypoints(results)\n",
    "                        frameId = int(frameId)\n",
    "                        npy_path = os.path.join(\"train\", gloss, str(counter) ,str(frameCounter) + \".npy\")\n",
    "                        if not os.path.exists(os.path.dirname(npy_path)):\n",
    "                            os.makedirs(os.path.dirname(npy_path))\n",
    "                        np.save(npy_path, keypoints)\n",
    "                        frameCounter+=1\n",
    "                counter+=1\n",
    "        else:\n",
    "            print(\"Video ID : \", videoID, \" does not exist\")\n",
    "                    \n",
    "    cap.release()\n",
    "    cv2.destroyAllWindows()\n",
    "    \n",
    "    if counter2 == 2:\n",
    "        break\n",
    "    counter2+=1\n"
   ]
  },
  {
   "cell_type": "code",
   "execution_count": 20,
   "metadata": {},
   "outputs": [],
   "source": [
    "from sklearn.model_selection import train_test_split\n",
    "from tensorflow.keras.utils import to_categorical"
   ]
  },
  {
   "cell_type": "code",
   "execution_count": 21,
   "metadata": {},
   "outputs": [
    {
     "data": {
      "text/plain": [
       "{'book': 0, 'computer': 1, 'drink': 2}"
      ]
     },
     "execution_count": 21,
     "metadata": {},
     "output_type": "execute_result"
    }
   ],
   "source": [
    "actions = np.array([\"book\", \"computer\", \"drink\"])\n",
    "label_map = {label:num for num, label in enumerate(actions)}\n",
    "label_map"
   ]
  },
  {
   "cell_type": "code",
   "execution_count": 37,
   "metadata": {},
   "outputs": [],
   "source": [
    "sequences, labels = [], []\n",
    "DATA_PATH = os.path.join('train') \n",
    "for action in actions:\n",
    "    for sequence in np.array(os.listdir(os.path.join(DATA_PATH, action))).astype(int):\n",
    "        window = []\n",
    "        # check frames in each folder (sequence)\n",
    "        frameCount = len(os.listdir(os.path.join(DATA_PATH, action, str(sequence))))\n",
    "        for frameNum in range(frameCount):\n",
    "            res = np.load(os.path.join(DATA_PATH, action, str(sequence), str(frameNum) + '.npy'))\n",
    "            window.append(res) \n",
    "        sequences.append(window)\n",
    "        labels.append(label_map[action])"
   ]
  },
  {
   "cell_type": "code",
   "execution_count": 38,
   "metadata": {},
   "outputs": [
    {
     "data": {
      "text/plain": [
       "(30, 30, 1662)"
      ]
     },
     "execution_count": 38,
     "metadata": {},
     "output_type": "execute_result"
    }
   ],
   "source": [
    "np.array(sequences).shape"
   ]
  },
  {
   "cell_type": "code",
   "execution_count": 39,
   "metadata": {},
   "outputs": [
    {
     "data": {
      "text/plain": [
       "(30,)"
      ]
     },
     "execution_count": 39,
     "metadata": {},
     "output_type": "execute_result"
    }
   ],
   "source": [
    "np.array(labels).shape"
   ]
  },
  {
   "cell_type": "code",
   "execution_count": 40,
   "metadata": {},
   "outputs": [],
   "source": [
    "X = np.array(sequences)"
   ]
  },
  {
   "cell_type": "code",
   "execution_count": 41,
   "metadata": {},
   "outputs": [],
   "source": [
    "y = to_categorical(labels).astype(int)"
   ]
  },
  {
   "cell_type": "code",
   "execution_count": 42,
   "metadata": {},
   "outputs": [],
   "source": [
    "X_train, X_test, y_train, y_test = train_test_split(X, y, test_size=0.05)"
   ]
  },
  {
   "attachments": {},
   "cell_type": "markdown",
   "metadata": {},
   "source": [
    "Build and Train LSTM Neural Network"
   ]
  },
  {
   "cell_type": "code",
   "execution_count": 43,
   "metadata": {},
   "outputs": [],
   "source": [
    "from tensorflow.keras.models import Sequential\n",
    "from tensorflow.keras.layers import LSTM, Dense\n",
    "from tensorflow.keras.callbacks import TensorBoard"
   ]
  },
  {
   "cell_type": "code",
   "execution_count": 44,
   "metadata": {},
   "outputs": [],
   "source": [
    "log_dir = os.path.join('Logs')\n",
    "tb_callback = TensorBoard(log_dir=log_dir)"
   ]
  },
  {
   "cell_type": "code",
   "execution_count": 48,
   "metadata": {},
   "outputs": [],
   "source": [
    "model = Sequential()\n",
    "model.add(LSTM(64, return_sequences=True, activation='relu', input_shape=(30,1662)))\n",
    "model.add(LSTM(128, return_sequences=True, activation='relu'))\n",
    "model.add(LSTM(64, return_sequences=False, activation='relu'))\n",
    "model.add(Dense(64, activation='relu'))\n",
    "model.add(Dense(32, activation='relu'))\n",
    "model.add(Dense(actions.shape[0], activation='softmax'))"
   ]
  },
  {
   "cell_type": "code",
   "execution_count": 49,
   "metadata": {},
   "outputs": [],
   "source": [
    "model.compile(optimizer='Adam', loss='categorical_crossentropy', metrics=['categorical_accuracy'])"
   ]
  },
  {
   "cell_type": "code",
   "execution_count": 50,
   "metadata": {},
   "outputs": [
    {
     "name": "stdout",
     "output_type": "stream",
     "text": [
      "Epoch 1/100\n",
      "1/1 [==============================] - 3s 3s/step - loss: 1.0967 - categorical_accuracy: 0.3571\n",
      "Epoch 2/100\n",
      "1/1 [==============================] - 0s 80ms/step - loss: 1.0842 - categorical_accuracy: 0.3571\n",
      "Epoch 3/100\n",
      "1/1 [==============================] - 0s 77ms/step - loss: 1.0821 - categorical_accuracy: 0.3571\n",
      "Epoch 4/100\n",
      "1/1 [==============================] - 0s 80ms/step - loss: 1.2090 - categorical_accuracy: 0.3214\n",
      "Epoch 5/100\n",
      "1/1 [==============================] - 0s 83ms/step - loss: 1.0660 - categorical_accuracy: 0.4643\n",
      "Epoch 6/100\n",
      "1/1 [==============================] - 0s 81ms/step - loss: 1.0565 - categorical_accuracy: 0.4643\n",
      "Epoch 7/100\n",
      "1/1 [==============================] - 0s 82ms/step - loss: 1.0370 - categorical_accuracy: 0.3929\n",
      "Epoch 8/100\n",
      "1/1 [==============================] - 0s 79ms/step - loss: 1.0150 - categorical_accuracy: 0.5357\n",
      "Epoch 9/100\n",
      "1/1 [==============================] - 0s 86ms/step - loss: 0.9519 - categorical_accuracy: 0.4643\n",
      "Epoch 10/100\n",
      "1/1 [==============================] - 0s 80ms/step - loss: 0.9986 - categorical_accuracy: 0.5714\n",
      "Epoch 11/100\n",
      "1/1 [==============================] - 0s 76ms/step - loss: 1.0021 - categorical_accuracy: 0.6071\n",
      "Epoch 12/100\n",
      "1/1 [==============================] - 0s 79ms/step - loss: 1.4290 - categorical_accuracy: 0.4643\n",
      "Epoch 13/100\n",
      "1/1 [==============================] - 0s 76ms/step - loss: 1.1987 - categorical_accuracy: 0.3571\n",
      "Epoch 14/100\n",
      "1/1 [==============================] - 0s 78ms/step - loss: 1.1024 - categorical_accuracy: 0.3571\n",
      "Epoch 15/100\n",
      "1/1 [==============================] - 0s 81ms/step - loss: 1.0236 - categorical_accuracy: 0.5000\n",
      "Epoch 16/100\n",
      "1/1 [==============================] - 0s 77ms/step - loss: 0.9888 - categorical_accuracy: 0.7143\n",
      "Epoch 17/100\n",
      "1/1 [==============================] - 0s 74ms/step - loss: 0.9896 - categorical_accuracy: 0.5714\n",
      "Epoch 18/100\n",
      "1/1 [==============================] - 0s 83ms/step - loss: 0.9659 - categorical_accuracy: 0.7143\n",
      "Epoch 19/100\n",
      "1/1 [==============================] - 0s 80ms/step - loss: 0.9222 - categorical_accuracy: 0.6429\n",
      "Epoch 20/100\n",
      "1/1 [==============================] - 0s 78ms/step - loss: 0.8928 - categorical_accuracy: 0.4643\n",
      "Epoch 21/100\n",
      "1/1 [==============================] - 0s 77ms/step - loss: 0.8207 - categorical_accuracy: 0.5357\n",
      "Epoch 22/100\n",
      "1/1 [==============================] - 0s 76ms/step - loss: 0.8169 - categorical_accuracy: 0.7143\n",
      "Epoch 23/100\n",
      "1/1 [==============================] - 0s 76ms/step - loss: 0.9604 - categorical_accuracy: 0.4643\n",
      "Epoch 24/100\n",
      "1/1 [==============================] - 0s 79ms/step - loss: 0.6970 - categorical_accuracy: 0.7143\n",
      "Epoch 25/100\n",
      "1/1 [==============================] - 0s 79ms/step - loss: 0.7025 - categorical_accuracy: 0.7143\n",
      "Epoch 26/100\n",
      "1/1 [==============================] - 0s 81ms/step - loss: 0.8183 - categorical_accuracy: 0.4643\n",
      "Epoch 27/100\n",
      "1/1 [==============================] - 0s 78ms/step - loss: 0.7054 - categorical_accuracy: 0.6786\n",
      "Epoch 28/100\n",
      "1/1 [==============================] - 0s 80ms/step - loss: 0.6913 - categorical_accuracy: 0.7143\n",
      "Epoch 29/100\n",
      "1/1 [==============================] - 0s 78ms/step - loss: 0.6773 - categorical_accuracy: 0.7143\n",
      "Epoch 30/100\n",
      "1/1 [==============================] - 0s 77ms/step - loss: 0.6088 - categorical_accuracy: 0.7143\n",
      "Epoch 31/100\n",
      "1/1 [==============================] - 0s 80ms/step - loss: 0.5982 - categorical_accuracy: 0.7500\n",
      "Epoch 32/100\n",
      "1/1 [==============================] - 0s 75ms/step - loss: 0.5348 - categorical_accuracy: 0.7857\n",
      "Epoch 33/100\n",
      "1/1 [==============================] - 0s 78ms/step - loss: 0.5071 - categorical_accuracy: 0.7143\n",
      "Epoch 34/100\n",
      "1/1 [==============================] - 0s 81ms/step - loss: 0.5073 - categorical_accuracy: 0.7500\n",
      "Epoch 35/100\n",
      "1/1 [==============================] - 0s 79ms/step - loss: 0.5473 - categorical_accuracy: 0.7143\n",
      "Epoch 36/100\n",
      "1/1 [==============================] - 0s 82ms/step - loss: 0.5848 - categorical_accuracy: 0.7143\n",
      "Epoch 37/100\n",
      "1/1 [==============================] - 0s 76ms/step - loss: 0.7572 - categorical_accuracy: 0.5000\n",
      "Epoch 38/100\n",
      "1/1 [==============================] - 0s 77ms/step - loss: 0.7589 - categorical_accuracy: 0.4643\n",
      "Epoch 39/100\n",
      "1/1 [==============================] - 0s 81ms/step - loss: 0.5933 - categorical_accuracy: 0.5357\n",
      "Epoch 40/100\n",
      "1/1 [==============================] - 0s 77ms/step - loss: 0.5805 - categorical_accuracy: 0.8214\n",
      "Epoch 41/100\n",
      "1/1 [==============================] - 0s 79ms/step - loss: 0.5930 - categorical_accuracy: 0.7143\n",
      "Epoch 42/100\n",
      "1/1 [==============================] - 0s 84ms/step - loss: 0.5196 - categorical_accuracy: 0.7500\n",
      "Epoch 43/100\n",
      "1/1 [==============================] - 0s 78ms/step - loss: 0.5662 - categorical_accuracy: 0.7143\n",
      "Epoch 44/100\n",
      "1/1 [==============================] - 0s 80ms/step - loss: 0.5923 - categorical_accuracy: 0.7143\n",
      "Epoch 45/100\n",
      "1/1 [==============================] - 0s 77ms/step - loss: 0.5713 - categorical_accuracy: 0.7143\n",
      "Epoch 46/100\n",
      "1/1 [==============================] - 0s 79ms/step - loss: 0.5187 - categorical_accuracy: 0.7143\n",
      "Epoch 47/100\n",
      "1/1 [==============================] - 0s 79ms/step - loss: 0.4984 - categorical_accuracy: 0.7143\n",
      "Epoch 48/100\n",
      "1/1 [==============================] - 0s 75ms/step - loss: 0.4922 - categorical_accuracy: 0.7500\n",
      "Epoch 49/100\n",
      "1/1 [==============================] - 0s 78ms/step - loss: 0.4687 - categorical_accuracy: 0.7500\n",
      "Epoch 50/100\n",
      "1/1 [==============================] - 0s 79ms/step - loss: 0.4294 - categorical_accuracy: 0.7857\n",
      "Epoch 51/100\n",
      "1/1 [==============================] - 0s 77ms/step - loss: 0.4345 - categorical_accuracy: 0.7143\n",
      "Epoch 52/100\n",
      "1/1 [==============================] - 0s 83ms/step - loss: 0.6439 - categorical_accuracy: 0.7143\n",
      "Epoch 53/100\n",
      "1/1 [==============================] - 0s 77ms/step - loss: 0.4232 - categorical_accuracy: 0.7857\n",
      "Epoch 54/100\n",
      "1/1 [==============================] - 0s 76ms/step - loss: 0.5165 - categorical_accuracy: 0.6786\n",
      "Epoch 55/100\n",
      "1/1 [==============================] - 0s 77ms/step - loss: 0.4055 - categorical_accuracy: 0.8571\n",
      "Epoch 56/100\n",
      "1/1 [==============================] - 0s 76ms/step - loss: 0.4142 - categorical_accuracy: 0.7500\n",
      "Epoch 57/100\n",
      "1/1 [==============================] - 0s 79ms/step - loss: 0.4184 - categorical_accuracy: 0.7500\n",
      "Epoch 58/100\n",
      "1/1 [==============================] - 0s 77ms/step - loss: 0.3902 - categorical_accuracy: 0.7857\n",
      "Epoch 59/100\n",
      "1/1 [==============================] - 0s 77ms/step - loss: 0.4231 - categorical_accuracy: 0.7857\n",
      "Epoch 60/100\n",
      "1/1 [==============================] - 0s 85ms/step - loss: 0.3774 - categorical_accuracy: 0.7857\n",
      "Epoch 61/100\n",
      "1/1 [==============================] - 0s 79ms/step - loss: 0.3881 - categorical_accuracy: 0.8214\n",
      "Epoch 62/100\n",
      "1/1 [==============================] - 0s 78ms/step - loss: 0.3841 - categorical_accuracy: 0.8214\n",
      "Epoch 63/100\n",
      "1/1 [==============================] - 0s 80ms/step - loss: 0.3403 - categorical_accuracy: 0.8571\n",
      "Epoch 64/100\n",
      "1/1 [==============================] - 0s 74ms/step - loss: 0.3918 - categorical_accuracy: 0.8214\n",
      "Epoch 65/100\n",
      "1/1 [==============================] - 0s 78ms/step - loss: 0.4587 - categorical_accuracy: 0.8571\n",
      "Epoch 66/100\n",
      "1/1 [==============================] - 0s 80ms/step - loss: 0.3663 - categorical_accuracy: 0.7857\n",
      "Epoch 67/100\n",
      "1/1 [==============================] - 0s 74ms/step - loss: 0.3300 - categorical_accuracy: 0.8571\n",
      "Epoch 68/100\n",
      "1/1 [==============================] - 0s 80ms/step - loss: 0.3538 - categorical_accuracy: 0.7500\n",
      "Epoch 69/100\n",
      "1/1 [==============================] - 0s 76ms/step - loss: 0.4090 - categorical_accuracy: 0.7500\n",
      "Epoch 70/100\n",
      "1/1 [==============================] - 0s 74ms/step - loss: 0.2732 - categorical_accuracy: 0.8929\n",
      "Epoch 71/100\n",
      "1/1 [==============================] - 0s 76ms/step - loss: 0.2286 - categorical_accuracy: 0.9286\n",
      "Epoch 72/100\n",
      "1/1 [==============================] - 0s 77ms/step - loss: 0.3921 - categorical_accuracy: 0.8214\n",
      "Epoch 73/100\n",
      "1/1 [==============================] - 0s 76ms/step - loss: 0.2573 - categorical_accuracy: 0.8571\n",
      "Epoch 74/100\n",
      "1/1 [==============================] - 0s 78ms/step - loss: 0.2449 - categorical_accuracy: 0.9286\n",
      "Epoch 75/100\n",
      "1/1 [==============================] - 0s 78ms/step - loss: 0.2691 - categorical_accuracy: 0.8929\n",
      "Epoch 76/100\n",
      "1/1 [==============================] - 0s 79ms/step - loss: 0.2676 - categorical_accuracy: 0.8929\n",
      "Epoch 77/100\n",
      "1/1 [==============================] - 0s 80ms/step - loss: 0.2403 - categorical_accuracy: 0.8929\n",
      "Epoch 78/100\n",
      "1/1 [==============================] - 0s 75ms/step - loss: 0.2161 - categorical_accuracy: 0.8929\n",
      "Epoch 79/100\n",
      "1/1 [==============================] - 0s 80ms/step - loss: 0.2238 - categorical_accuracy: 0.8571\n",
      "Epoch 80/100\n",
      "1/1 [==============================] - 0s 75ms/step - loss: 0.3056 - categorical_accuracy: 0.8214\n",
      "Epoch 81/100\n",
      "1/1 [==============================] - 0s 75ms/step - loss: 3.8758 - categorical_accuracy: 0.5000\n",
      "Epoch 82/100\n",
      "1/1 [==============================] - 0s 76ms/step - loss: 1.3892 - categorical_accuracy: 0.3929\n",
      "Epoch 83/100\n",
      "1/1 [==============================] - 0s 74ms/step - loss: 1.1102 - categorical_accuracy: 0.3929\n",
      "Epoch 84/100\n",
      "1/1 [==============================] - 0s 76ms/step - loss: 1.0031 - categorical_accuracy: 0.4286\n",
      "Epoch 85/100\n",
      "1/1 [==============================] - 0s 79ms/step - loss: 0.9390 - categorical_accuracy: 0.4286\n",
      "Epoch 86/100\n",
      "1/1 [==============================] - 0s 77ms/step - loss: 0.8926 - categorical_accuracy: 0.4286\n",
      "Epoch 87/100\n",
      "1/1 [==============================] - 0s 75ms/step - loss: 0.8714 - categorical_accuracy: 0.6429\n",
      "Epoch 88/100\n",
      "1/1 [==============================] - 0s 78ms/step - loss: 0.8421 - categorical_accuracy: 0.6429\n",
      "Epoch 89/100\n",
      "1/1 [==============================] - 0s 75ms/step - loss: 0.8989 - categorical_accuracy: 0.7143\n",
      "Epoch 90/100\n",
      "1/1 [==============================] - 0s 76ms/step - loss: 0.6804 - categorical_accuracy: 0.4286\n",
      "Epoch 91/100\n",
      "1/1 [==============================] - 0s 76ms/step - loss: 0.7469 - categorical_accuracy: 0.5357\n",
      "Epoch 92/100\n",
      "1/1 [==============================] - 0s 74ms/step - loss: 0.7118 - categorical_accuracy: 0.5357\n",
      "Epoch 93/100\n",
      "1/1 [==============================] - 0s 77ms/step - loss: 0.6798 - categorical_accuracy: 0.5357\n",
      "Epoch 94/100\n",
      "1/1 [==============================] - 0s 77ms/step - loss: 0.6103 - categorical_accuracy: 0.7143\n",
      "Epoch 95/100\n",
      "1/1 [==============================] - 0s 73ms/step - loss: 0.5657 - categorical_accuracy: 0.7143\n",
      "Epoch 96/100\n",
      "1/1 [==============================] - 0s 77ms/step - loss: 0.6363 - categorical_accuracy: 0.7500\n",
      "Epoch 97/100\n",
      "1/1 [==============================] - 0s 74ms/step - loss: 0.9757 - categorical_accuracy: 0.7143\n",
      "Epoch 98/100\n",
      "1/1 [==============================] - 0s 74ms/step - loss: 0.6200 - categorical_accuracy: 0.7143\n",
      "Epoch 99/100\n",
      "1/1 [==============================] - 0s 77ms/step - loss: 0.5653 - categorical_accuracy: 0.7143\n",
      "Epoch 100/100\n",
      "1/1 [==============================] - 0s 72ms/step - loss: 0.5931 - categorical_accuracy: 0.7143\n"
     ]
    },
    {
     "data": {
      "text/plain": [
       "<keras.callbacks.History at 0x24a122f1d00>"
      ]
     },
     "execution_count": 50,
     "metadata": {},
     "output_type": "execute_result"
    }
   ],
   "source": [
    "model.fit(X_train, y_train, epochs=100, callbacks=[tb_callback])"
   ]
  },
  {
   "cell_type": "code",
   "execution_count": 51,
   "metadata": {},
   "outputs": [
    {
     "name": "stdout",
     "output_type": "stream",
     "text": [
      "Model: \"sequential_2\"\n",
      "_________________________________________________________________\n",
      " Layer (type)                Output Shape              Param #   \n",
      "=================================================================\n",
      " lstm_6 (LSTM)               (None, 30, 64)            442112    \n",
      "                                                                 \n",
      " lstm_7 (LSTM)               (None, 30, 128)           98816     \n",
      "                                                                 \n",
      " lstm_8 (LSTM)               (None, 64)                49408     \n",
      "                                                                 \n",
      " dense_6 (Dense)             (None, 64)                4160      \n",
      "                                                                 \n",
      " dense_7 (Dense)             (None, 32)                2080      \n",
      "                                                                 \n",
      " dense_8 (Dense)             (None, 3)                 99        \n",
      "                                                                 \n",
      "=================================================================\n",
      "Total params: 596,675\n",
      "Trainable params: 596,675\n",
      "Non-trainable params: 0\n",
      "_________________________________________________________________\n"
     ]
    }
   ],
   "source": [
    "model.summary()"
   ]
  },
  {
   "cell_type": "code",
   "execution_count": 52,
   "metadata": {},
   "outputs": [
    {
     "name": "stdout",
     "output_type": "stream",
     "text": [
      "1/1 [==============================] - 0s 298ms/step\n"
     ]
    }
   ],
   "source": [
    "res = model.predict(X_test)"
   ]
  },
  {
   "cell_type": "code",
   "execution_count": 53,
   "metadata": {},
   "outputs": [
    {
     "ename": "IndexError",
     "evalue": "index 4 is out of bounds for axis 0 with size 2",
     "output_type": "error",
     "traceback": [
      "\u001b[1;31m---------------------------------------------------------------------------\u001b[0m",
      "\u001b[1;31mIndexError\u001b[0m                                Traceback (most recent call last)",
      "Cell \u001b[1;32mIn[53], line 1\u001b[0m\n\u001b[1;32m----> 1\u001b[0m actions[np\u001b[39m.\u001b[39margmax(res[\u001b[39m4\u001b[39;49m])]\n",
      "\u001b[1;31mIndexError\u001b[0m: index 4 is out of bounds for axis 0 with size 2"
     ]
    }
   ],
   "source": [
    "actions[np.argmax(res[4])]"
   ]
  },
  {
   "cell_type": "code",
   "execution_count": null,
   "metadata": {},
   "outputs": [],
   "source": [
    "actions[np.argmax(y_test[4])]"
   ]
  },
  {
   "cell_type": "code",
   "execution_count": 54,
   "metadata": {},
   "outputs": [],
   "source": [
    "model.save('action.h5')"
   ]
  },
  {
   "cell_type": "code",
   "execution_count": 55,
   "metadata": {},
   "outputs": [],
   "source": [
    "from sklearn.metrics import multilabel_confusion_matrix, accuracy_score"
   ]
  },
  {
   "cell_type": "code",
   "execution_count": 56,
   "metadata": {},
   "outputs": [
    {
     "name": "stdout",
     "output_type": "stream",
     "text": [
      "1/1 [==============================] - 0s 24ms/step\n"
     ]
    }
   ],
   "source": [
    "yhat = model.predict(X_test)"
   ]
  },
  {
   "cell_type": "code",
   "execution_count": 57,
   "metadata": {},
   "outputs": [],
   "source": [
    "ytrue = np.argmax(y_test, axis=1).tolist()\n",
    "yhat = np.argmax(yhat, axis=1).tolist()"
   ]
  },
  {
   "cell_type": "code",
   "execution_count": 58,
   "metadata": {},
   "outputs": [
    {
     "data": {
      "text/plain": [
       "0.5"
      ]
     },
     "execution_count": 58,
     "metadata": {},
     "output_type": "execute_result"
    }
   ],
   "source": [
    "accuracy_score(ytrue, yhat)"
   ]
  },
  {
   "cell_type": "code",
   "execution_count": null,
   "metadata": {},
   "outputs": [],
   "source": []
  }
 ],
 "metadata": {
  "kernelspec": {
   "display_name": "fyp2",
   "language": "python",
   "name": "python3"
  },
  "language_info": {
   "codemirror_mode": {
    "name": "ipython",
    "version": 3
   },
   "file_extension": ".py",
   "mimetype": "text/x-python",
   "name": "python",
   "nbconvert_exporter": "python",
   "pygments_lexer": "ipython3",
   "version": "3.9.15"
  },
  "orig_nbformat": 4,
  "vscode": {
   "interpreter": {
    "hash": "4200ce2b7de31ce83a82abb042c2a901ce0ba3628e07f7c25b1e4bd3a2668fe1"
   }
  }
 },
 "nbformat": 4,
 "nbformat_minor": 2
}
