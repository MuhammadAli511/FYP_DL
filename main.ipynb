{
 "cells": [
  {
   "cell_type": "code",
   "execution_count": null,
   "metadata": {},
   "outputs": [],
   "source": [
    "# pip install tensorflow opencv-python mediapipe sklearn matplotlib"
   ]
  },
  {
   "cell_type": "code",
   "execution_count": 6,
   "metadata": {},
   "outputs": [],
   "source": [
    "import cv2\n",
    "import mediapipe as mp\n",
    "import numpy as np\n",
    "import os\n",
    "import time\n",
    "from matplotlib import pyplot as plt"
   ]
  },
  {
   "cell_type": "code",
   "execution_count": 7,
   "metadata": {},
   "outputs": [],
   "source": [
    "mp_holistic = mp.solutions.holistic\n",
    "mp_drawing = mp.solutions.drawing_utils"
   ]
  },
  {
   "cell_type": "code",
   "execution_count": 8,
   "metadata": {},
   "outputs": [],
   "source": [
    "def mediapipe_detection(image, model):\n",
    "    image = cv2.cvtColor(image, cv2.COLOR_BGR2RGB) # COLOR CONVERSION BGR 2 RGB\n",
    "    image.flags.writeable = False                  # Image is no longer writeable\n",
    "    results = model.process(image)                 # Make prediction\n",
    "    image.flags.writeable = True                   # Image is now writeable \n",
    "    image = cv2.cvtColor(image, cv2.COLOR_RGB2BGR) # COLOR COVERSION RGB 2 BGR\n",
    "    return image, results"
   ]
  },
  {
   "cell_type": "code",
   "execution_count": 9,
   "metadata": {},
   "outputs": [],
   "source": [
    "def draw_styled_landmarks(image, results):\n",
    "    # Draw face connections\n",
    "    mp_drawing.draw_landmarks(image, results.face_landmarks, mp_holistic.FACEMESH_TESSELATION, mp_drawing.DrawingSpec(color=(80,110,10), thickness=1, circle_radius=1), mp_drawing.DrawingSpec(color=(80,256,121), thickness=1, circle_radius=1)) \n",
    "    # Draw pose connections\n",
    "    mp_drawing.draw_landmarks(image, results.pose_landmarks, mp_holistic.POSE_CONNECTIONS, mp_drawing.DrawingSpec(color=(80,22,10), thickness=2, circle_radius=4), mp_drawing.DrawingSpec(color=(80,44,121), thickness=2, circle_radius=2)) \n",
    "    # Draw left hand connections\n",
    "    mp_drawing.draw_landmarks(image, results.left_hand_landmarks, mp_holistic.HAND_CONNECTIONS, mp_drawing.DrawingSpec(color=(121,22,76), thickness=2, circle_radius=4), mp_drawing.DrawingSpec(color=(121,44,250), thickness=2, circle_radius=2)) \n",
    "    # Draw right hand connections  \n",
    "    mp_drawing.draw_landmarks(image, results.right_hand_landmarks, mp_holistic.HAND_CONNECTIONS, mp_drawing.DrawingSpec(color=(245,117,66), thickness=2, circle_radius=4), mp_drawing.DrawingSpec(color=(245,66,230), thickness=2, circle_radius=2)) "
   ]
  },
  {
   "cell_type": "code",
   "execution_count": 10,
   "metadata": {},
   "outputs": [],
   "source": [
    "def extract_keypoints(results):\n",
    "    pose = np.array([[res.x, res.y, res.z, res.visibility] for res in results.pose_landmarks.landmark]).flatten() if results.pose_landmarks else np.zeros(33*4)\n",
    "    face = np.array([[res.x, res.y, res.z] for res in results.face_landmarks.landmark]).flatten() if results.face_landmarks else np.zeros(468*3)\n",
    "    lh = np.array([[res.x, res.y, res.z] for res in results.left_hand_landmarks.landmark]).flatten() if results.left_hand_landmarks else np.zeros(21*3)\n",
    "    rh = np.array([[res.x, res.y, res.z] for res in results.right_hand_landmarks.landmark]).flatten() if results.right_hand_landmarks else np.zeros(21*3)\n",
    "    return np.concatenate([pose, face, lh, rh])"
   ]
  },
  {
   "cell_type": "code",
   "execution_count": 44,
   "metadata": {},
   "outputs": [
    {
     "name": "stdout",
     "output_type": "stream",
     "text": [
      "Video ID :  69241\n",
      "Frame Rate:  3.3333333333333335e-05\n",
      "Frame ID:  0.0\n",
      "Frame Rate:  3.3333333333333335e-05\n",
      "Frame ID:  1.0\n",
      "Frame Rate:  3.3333333333333335e-05\n",
      "Frame ID:  2.0\n",
      "Frame Rate:  3.3333333333333335e-05\n",
      "Frame ID:  3.0\n",
      "Frame Rate:  3.3333333333333335e-05\n",
      "Frame ID:  4.0\n",
      "Frame Rate:  3.3333333333333335e-05\n",
      "Frame ID:  5.0\n",
      "Frame Rate:  3.3333333333333335e-05\n",
      "Frame ID:  6.0\n",
      "Frame Rate:  3.3333333333333335e-05\n",
      "Frame ID:  7.0\n",
      "Frame Rate:  3.3333333333333335e-05\n",
      "Frame ID:  8.0\n",
      "Frame Rate:  3.3333333333333335e-05\n",
      "Frame ID:  9.0\n",
      "Frame Rate:  3.3333333333333335e-05\n",
      "Frame ID:  10.0\n",
      "Frame Rate:  3.3333333333333335e-05\n",
      "Frame ID:  11.0\n",
      "Frame Rate:  3.3333333333333335e-05\n",
      "Frame ID:  12.0\n",
      "Frame Rate:  3.3333333333333335e-05\n",
      "Frame ID:  13.0\n",
      "Frame Rate:  3.3333333333333335e-05\n",
      "Frame ID:  14.0\n",
      "Frame Rate:  3.3333333333333335e-05\n",
      "Frame ID:  15.0\n",
      "Frame Rate:  3.3333333333333335e-05\n",
      "Frame ID:  16.0\n",
      "Frame Rate:  3.3333333333333335e-05\n",
      "Frame ID:  17.0\n",
      "Frame Rate:  3.3333333333333335e-05\n",
      "Frame ID:  18.0\n",
      "Frame Rate:  3.3333333333333335e-05\n",
      "Frame ID:  19.0\n",
      "Frame Rate:  3.3333333333333335e-05\n",
      "Frame ID:  20.0\n",
      "Frame Rate:  3.3333333333333335e-05\n",
      "Frame ID:  21.0\n",
      "Frame Rate:  3.3333333333333335e-05\n",
      "Frame ID:  22.0\n",
      "Frame Rate:  3.3333333333333335e-05\n",
      "Frame ID:  23.0\n",
      "Frame Rate:  3.3333333333333335e-05\n",
      "Frame ID:  24.0\n",
      "Frame Rate:  3.3333333333333335e-05\n",
      "Frame ID:  25.0\n",
      "Frame Rate:  3.3333333333333335e-05\n",
      "Frame ID:  26.0\n",
      "Frame Rate:  3.3333333333333335e-05\n",
      "Frame ID:  27.0\n",
      "Frame Rate:  3.3333333333333335e-05\n",
      "Frame ID:  28.0\n",
      "Frame Rate:  3.3333333333333335e-05\n",
      "Frame ID:  29.0\n",
      "Frame Rate:  3.3333333333333335e-05\n",
      "Frame ID:  30.0\n",
      "Frame Rate:  3.3333333333333335e-05\n",
      "Frame ID:  31.0\n",
      "Frame Rate:  3.3333333333333335e-05\n",
      "Frame ID:  32.0\n",
      "Frame Rate:  3.3333333333333335e-05\n",
      "Frame ID:  33.0\n",
      "Frame Rate:  3.3333333333333335e-05\n",
      "Frame ID:  34.0\n",
      "Frame Rate:  3.3333333333333335e-05\n",
      "Frame ID:  35.0\n",
      "Frame Rate:  3.3333333333333335e-05\n",
      "Frame ID:  36.0\n",
      "Frame Rate:  3.3333333333333335e-05\n",
      "Frame ID:  37.0\n",
      "Frame Rate:  3.3333333333333335e-05\n",
      "Frame ID:  38.0\n",
      "Frame Rate:  3.3333333333333335e-05\n",
      "Frame ID:  39.0\n",
      "Frame Rate:  3.3333333333333335e-05\n",
      "Frame ID:  40.0\n",
      "Frame Rate:  3.3333333333333335e-05\n",
      "Frame ID:  41.0\n",
      "Frame Rate:  3.3333333333333335e-05\n",
      "Frame ID:  42.0\n"
     ]
    },
    {
     "ename": "KeyboardInterrupt",
     "evalue": "",
     "output_type": "error",
     "traceback": [
      "\u001b[1;31m---------------------------------------------------------------------------\u001b[0m",
      "\u001b[1;31mKeyboardInterrupt\u001b[0m                         Traceback (most recent call last)",
      "Cell \u001b[1;32mIn[44], line 29\u001b[0m\n\u001b[0;32m     27\u001b[0m \u001b[39mif\u001b[39;00m (frameId \u001b[39m%\u001b[39m ((\u001b[39mint\u001b[39m(frameRate)\u001b[39m+\u001b[39m\u001b[39m1\u001b[39m)) \u001b[39m==\u001b[39m \u001b[39m0\u001b[39m):\n\u001b[0;32m     28\u001b[0m     image, results \u001b[39m=\u001b[39m mediapipe_detection(frame, holistic)\n\u001b[1;32m---> 29\u001b[0m     draw_styled_landmarks(image, results)\n\u001b[0;32m     30\u001b[0m     length \u001b[39m=\u001b[39m \u001b[39mint\u001b[39m(cap\u001b[39m.\u001b[39mget(cv2\u001b[39m.\u001b[39mCAP_PROP_FRAME_COUNT))\n\u001b[0;32m     31\u001b[0m     keypoints \u001b[39m=\u001b[39m extract_keypoints(results)\n",
      "Cell \u001b[1;32mIn[9], line 9\u001b[0m, in \u001b[0;36mdraw_styled_landmarks\u001b[1;34m(image, results)\u001b[0m\n\u001b[0;32m      7\u001b[0m mp_drawing\u001b[39m.\u001b[39mdraw_landmarks(image, results\u001b[39m.\u001b[39mleft_hand_landmarks, mp_holistic\u001b[39m.\u001b[39mHAND_CONNECTIONS, mp_drawing\u001b[39m.\u001b[39mDrawingSpec(color\u001b[39m=\u001b[39m(\u001b[39m121\u001b[39m,\u001b[39m22\u001b[39m,\u001b[39m76\u001b[39m), thickness\u001b[39m=\u001b[39m\u001b[39m2\u001b[39m, circle_radius\u001b[39m=\u001b[39m\u001b[39m4\u001b[39m), mp_drawing\u001b[39m.\u001b[39mDrawingSpec(color\u001b[39m=\u001b[39m(\u001b[39m121\u001b[39m,\u001b[39m44\u001b[39m,\u001b[39m250\u001b[39m), thickness\u001b[39m=\u001b[39m\u001b[39m2\u001b[39m, circle_radius\u001b[39m=\u001b[39m\u001b[39m2\u001b[39m)) \n\u001b[0;32m      8\u001b[0m \u001b[39m# Draw right hand connections  \u001b[39;00m\n\u001b[1;32m----> 9\u001b[0m mp_drawing\u001b[39m.\u001b[39;49mdraw_landmarks(image, results\u001b[39m.\u001b[39;49mright_hand_landmarks, mp_holistic\u001b[39m.\u001b[39;49mHAND_CONNECTIONS, mp_drawing\u001b[39m.\u001b[39;49mDrawingSpec(color\u001b[39m=\u001b[39;49m(\u001b[39m245\u001b[39;49m,\u001b[39m117\u001b[39;49m,\u001b[39m66\u001b[39;49m), thickness\u001b[39m=\u001b[39;49m\u001b[39m2\u001b[39;49m, circle_radius\u001b[39m=\u001b[39;49m\u001b[39m4\u001b[39;49m), mp_drawing\u001b[39m.\u001b[39;49mDrawingSpec(color\u001b[39m=\u001b[39;49m(\u001b[39m245\u001b[39;49m,\u001b[39m66\u001b[39;49m,\u001b[39m230\u001b[39;49m), thickness\u001b[39m=\u001b[39;49m\u001b[39m2\u001b[39;49m, circle_radius\u001b[39m=\u001b[39;49m\u001b[39m2\u001b[39;49m))\n",
      "File \u001b[1;32mc:\\Users\\moham\\anaconda3\\envs\\fyp2\\lib\\site-packages\\mediapipe\\python\\solutions\\drawing_utils.py:191\u001b[0m, in \u001b[0;36mdraw_landmarks\u001b[1;34m(image, landmark_list, connections, landmark_drawing_spec, connection_drawing_spec)\u001b[0m\n\u001b[0;32m    188\u001b[0m \u001b[39m# White circle border\u001b[39;00m\n\u001b[0;32m    189\u001b[0m circle_border_radius \u001b[39m=\u001b[39m \u001b[39mmax\u001b[39m(drawing_spec\u001b[39m.\u001b[39mcircle_radius \u001b[39m+\u001b[39m \u001b[39m1\u001b[39m,\n\u001b[0;32m    190\u001b[0m                            \u001b[39mint\u001b[39m(drawing_spec\u001b[39m.\u001b[39mcircle_radius \u001b[39m*\u001b[39m \u001b[39m1.2\u001b[39m))\n\u001b[1;32m--> 191\u001b[0m cv2\u001b[39m.\u001b[39;49mcircle(image, landmark_px, circle_border_radius, WHITE_COLOR,\n\u001b[0;32m    192\u001b[0m            drawing_spec\u001b[39m.\u001b[39;49mthickness)\n\u001b[0;32m    193\u001b[0m \u001b[39m# Fill color into the circle\u001b[39;00m\n\u001b[0;32m    194\u001b[0m cv2\u001b[39m.\u001b[39mcircle(image, landmark_px, drawing_spec\u001b[39m.\u001b[39mcircle_radius,\n\u001b[0;32m    195\u001b[0m            drawing_spec\u001b[39m.\u001b[39mcolor, drawing_spec\u001b[39m.\u001b[39mthickness)\n",
      "\u001b[1;31mKeyboardInterrupt\u001b[0m: "
     ]
    }
   ],
   "source": [
    "import json\n",
    "\n",
    "with open('archive/WLASL.json') as f:\n",
    "    data = json.load(f)\n",
    "\n",
    "counter2 = 0\n",
    "for i in data:\n",
    "    gloss = i['gloss']\n",
    "    counter = 0\n",
    "    for inst in i['instances']:\n",
    "        videoID = inst['video_id']\n",
    "        # check if video exists\n",
    "        if os.path.isfile('archive/videos/' + videoID + '.mp4'):\n",
    "            print(\"Video ID : \", videoID)\n",
    "            with mp_holistic.Holistic(min_detection_confidence=0.5, min_tracking_confidence=0.5) as holistic:\n",
    "                cap = cv2.VideoCapture('archive/videos/' + videoID + '.mp4')\n",
    "                frameRate = cap.get(2)\n",
    "                filename = 0\n",
    "                while (cap.isOpened()):\n",
    "                    frameId = cap.get(1)\n",
    "                    ret, frame = cap.read()\n",
    "                    if ret != True:\n",
    "                        break\n",
    "                    # take only 30 frames\n",
    "                    print(\"Frame Rate: \", frameRate)\n",
    "                    print(\"Frame ID: \", frameId)\n",
    "                    if (frameId % ((int(frameRate)+1)) == 0):\n",
    "                        image, results = mediapipe_detection(frame, holistic)\n",
    "                        draw_styled_landmarks(image, results)\n",
    "                        length = int(cap.get(cv2.CAP_PROP_FRAME_COUNT))\n",
    "                        keypoints = extract_keypoints(results)\n",
    "                        frameId = int(frameId)\n",
    "                        npy_path = os.path.join(\"train\", gloss, str(counter) ,str(frameId) + \".npy\")\n",
    "                        if not os.path.exists(os.path.dirname(npy_path)):\n",
    "                            os.makedirs(os.path.dirname(npy_path))\n",
    "                        np.save(npy_path, keypoints)\n",
    "                counter+=1\n",
    "        else:\n",
    "            print(\"Video ID : \", videoID, \" does not exist\")\n",
    "                    \n",
    "    cap.release()\n",
    "    cv2.destroyAllWindows()\n",
    "    \n",
    "    if counter2 == 2:\n",
    "        break\n",
    "    counter2+=1\n"
   ]
  },
  {
   "cell_type": "code",
   "execution_count": 36,
   "metadata": {},
   "outputs": [],
   "source": [
    "from sklearn.model_selection import train_test_split\n",
    "from tensorflow.keras.utils import to_categorical"
   ]
  },
  {
   "cell_type": "code",
   "execution_count": 37,
   "metadata": {},
   "outputs": [
    {
     "data": {
      "text/plain": [
       "{'book': 0, 'computer': 1, 'drink': 2}"
      ]
     },
     "execution_count": 37,
     "metadata": {},
     "output_type": "execute_result"
    }
   ],
   "source": [
    "actions = np.array([\"book\", \"computer\", \"drink\"])\n",
    "label_map = {label:num for num, label in enumerate(actions)}\n",
    "label_map"
   ]
  },
  {
   "cell_type": "code",
   "execution_count": 41,
   "metadata": {},
   "outputs": [],
   "source": [
    "sequences, labels = [], []\n",
    "DATA_PATH = os.path.join('train') \n",
    "for action in actions:\n",
    "    for sequence in np.array(os.listdir(os.path.join(DATA_PATH, action))).astype(int):\n",
    "        window = []\n",
    "        # check frames in each folder (sequence)\n",
    "        frameCount = len(os.listdir(os.path.join(DATA_PATH, action, str(sequence))))\n",
    "        for frameNum in range(frameCount):\n",
    "            res = np.load(os.path.join(DATA_PATH, action, str(sequence), str(frameNum) + '.npy'))\n",
    "            window.append(res)\n",
    "        sequences.append(window)\n",
    "        labels.append(label_map[action])"
   ]
  },
  {
   "cell_type": "code",
   "execution_count": 42,
   "metadata": {},
   "outputs": [
    {
     "ename": "ValueError",
     "evalue": "setting an array element with a sequence. The requested array has an inhomogeneous shape after 1 dimensions. The detected shape was (35,) + inhomogeneous part.",
     "output_type": "error",
     "traceback": [
      "\u001b[1;31m---------------------------------------------------------------------------\u001b[0m",
      "\u001b[1;31mValueError\u001b[0m                                Traceback (most recent call last)",
      "Cell \u001b[1;32mIn[42], line 1\u001b[0m\n\u001b[1;32m----> 1\u001b[0m np\u001b[39m.\u001b[39;49marray(sequences)\u001b[39m.\u001b[39mshape\n",
      "\u001b[1;31mValueError\u001b[0m: setting an array element with a sequence. The requested array has an inhomogeneous shape after 1 dimensions. The detected shape was (35,) + inhomogeneous part."
     ]
    }
   ],
   "source": [
    "np.array(sequences).shape"
   ]
  },
  {
   "cell_type": "code",
   "execution_count": 19,
   "metadata": {},
   "outputs": [
    {
     "data": {
      "text/plain": [
       "(35,)"
      ]
     },
     "execution_count": 19,
     "metadata": {},
     "output_type": "execute_result"
    }
   ],
   "source": [
    "np.array(labels).shape"
   ]
  },
  {
   "cell_type": "code",
   "execution_count": 21,
   "metadata": {},
   "outputs": [],
   "source": [
    "X = np.array(sequences)"
   ]
  },
  {
   "cell_type": "code",
   "execution_count": 22,
   "metadata": {},
   "outputs": [],
   "source": [
    "y = to_categorical(labels).astype(int)"
   ]
  },
  {
   "cell_type": "code",
   "execution_count": 23,
   "metadata": {},
   "outputs": [],
   "source": [
    "X_train, X_test, y_train, y_test = train_test_split(X, y, test_size=0.05)"
   ]
  },
  {
   "attachments": {},
   "cell_type": "markdown",
   "metadata": {},
   "source": [
    "Build and Train LSTM Neural Network"
   ]
  },
  {
   "cell_type": "code",
   "execution_count": 24,
   "metadata": {},
   "outputs": [],
   "source": [
    "from tensorflow.keras.models import Sequential\n",
    "from tensorflow.keras.layers import LSTM, Dense\n",
    "from tensorflow.keras.callbacks import TensorBoard"
   ]
  },
  {
   "cell_type": "code",
   "execution_count": 25,
   "metadata": {},
   "outputs": [],
   "source": [
    "log_dir = os.path.join('Logs')\n",
    "tb_callback = TensorBoard(log_dir=log_dir)"
   ]
  },
  {
   "cell_type": "code",
   "execution_count": 30,
   "metadata": {},
   "outputs": [],
   "source": [
    "model = Sequential()\n",
    "model.add(LSTM(64, return_sequences=True, activation='relu', input_shape=(30,1662)))\n",
    "model.add(LSTM(128, return_sequences=True, activation='relu'))\n",
    "model.add(LSTM(64, return_sequences=False, activation='relu'))\n",
    "model.add(Dense(64, activation='relu'))\n",
    "model.add(Dense(32, activation='relu'))\n",
    "model.add(Dense(actions.shape[0], activation='softmax'))"
   ]
  },
  {
   "cell_type": "code",
   "execution_count": 31,
   "metadata": {},
   "outputs": [],
   "source": [
    "model.compile(optimizer='Adam', loss='categorical_crossentropy', metrics=['categorical_accuracy'])"
   ]
  },
  {
   "cell_type": "code",
   "execution_count": 32,
   "metadata": {},
   "outputs": [
    {
     "name": "stdout",
     "output_type": "stream",
     "text": [
      "Epoch 1/100\n"
     ]
    },
    {
     "ename": "ValueError",
     "evalue": "in user code:\n\n    File \"C:\\Users\\moham\\AppData\\Roaming\\Python\\Python39\\site-packages\\keras\\engine\\training.py\", line 1249, in train_function  *\n        return step_function(self, iterator)\n    File \"C:\\Users\\moham\\AppData\\Roaming\\Python\\Python39\\site-packages\\keras\\engine\\training.py\", line 1233, in step_function  **\n        outputs = model.distribute_strategy.run(run_step, args=(data,))\n    File \"C:\\Users\\moham\\AppData\\Roaming\\Python\\Python39\\site-packages\\keras\\engine\\training.py\", line 1222, in run_step  **\n        outputs = model.train_step(data)\n    File \"C:\\Users\\moham\\AppData\\Roaming\\Python\\Python39\\site-packages\\keras\\engine\\training.py\", line 1023, in train_step\n        y_pred = self(x, training=True)\n    File \"C:\\Users\\moham\\AppData\\Roaming\\Python\\Python39\\site-packages\\keras\\utils\\traceback_utils.py\", line 70, in error_handler\n        raise e.with_traceback(filtered_tb) from None\n    File \"C:\\Users\\moham\\AppData\\Roaming\\Python\\Python39\\site-packages\\keras\\engine\\input_spec.py\", line 295, in assert_input_compatibility\n        raise ValueError(\n\n    ValueError: Input 0 of layer \"sequential_2\" is incompatible with the layer: expected shape=(None, 30, 1662), found shape=(None, 1662)\n",
     "output_type": "error",
     "traceback": [
      "\u001b[1;31m---------------------------------------------------------------------------\u001b[0m",
      "\u001b[1;31mValueError\u001b[0m                                Traceback (most recent call last)",
      "Cell \u001b[1;32mIn[32], line 1\u001b[0m\n\u001b[1;32m----> 1\u001b[0m model\u001b[39m.\u001b[39;49mfit(X_train, y_train, epochs\u001b[39m=\u001b[39;49m\u001b[39m100\u001b[39;49m, callbacks\u001b[39m=\u001b[39;49m[tb_callback])\n",
      "File \u001b[1;32m~\\AppData\\Roaming\\Python\\Python39\\site-packages\\keras\\utils\\traceback_utils.py:70\u001b[0m, in \u001b[0;36mfilter_traceback.<locals>.error_handler\u001b[1;34m(*args, **kwargs)\u001b[0m\n\u001b[0;32m     67\u001b[0m     filtered_tb \u001b[39m=\u001b[39m _process_traceback_frames(e\u001b[39m.\u001b[39m__traceback__)\n\u001b[0;32m     68\u001b[0m     \u001b[39m# To get the full stack trace, call:\u001b[39;00m\n\u001b[0;32m     69\u001b[0m     \u001b[39m# `tf.debugging.disable_traceback_filtering()`\u001b[39;00m\n\u001b[1;32m---> 70\u001b[0m     \u001b[39mraise\u001b[39;00m e\u001b[39m.\u001b[39mwith_traceback(filtered_tb) \u001b[39mfrom\u001b[39;00m \u001b[39mNone\u001b[39m\n\u001b[0;32m     71\u001b[0m \u001b[39mfinally\u001b[39;00m:\n\u001b[0;32m     72\u001b[0m     \u001b[39mdel\u001b[39;00m filtered_tb\n",
      "File \u001b[1;32m~\\AppData\\Local\\Temp\\__autograph_generated_file01jaltg4.py:15\u001b[0m, in \u001b[0;36mouter_factory.<locals>.inner_factory.<locals>.tf__train_function\u001b[1;34m(iterator)\u001b[0m\n\u001b[0;32m     13\u001b[0m \u001b[39mtry\u001b[39;00m:\n\u001b[0;32m     14\u001b[0m     do_return \u001b[39m=\u001b[39m \u001b[39mTrue\u001b[39;00m\n\u001b[1;32m---> 15\u001b[0m     retval_ \u001b[39m=\u001b[39m ag__\u001b[39m.\u001b[39mconverted_call(ag__\u001b[39m.\u001b[39mld(step_function), (ag__\u001b[39m.\u001b[39mld(\u001b[39mself\u001b[39m), ag__\u001b[39m.\u001b[39mld(iterator)), \u001b[39mNone\u001b[39;00m, fscope)\n\u001b[0;32m     16\u001b[0m \u001b[39mexcept\u001b[39;00m:\n\u001b[0;32m     17\u001b[0m     do_return \u001b[39m=\u001b[39m \u001b[39mFalse\u001b[39;00m\n",
      "\u001b[1;31mValueError\u001b[0m: in user code:\n\n    File \"C:\\Users\\moham\\AppData\\Roaming\\Python\\Python39\\site-packages\\keras\\engine\\training.py\", line 1249, in train_function  *\n        return step_function(self, iterator)\n    File \"C:\\Users\\moham\\AppData\\Roaming\\Python\\Python39\\site-packages\\keras\\engine\\training.py\", line 1233, in step_function  **\n        outputs = model.distribute_strategy.run(run_step, args=(data,))\n    File \"C:\\Users\\moham\\AppData\\Roaming\\Python\\Python39\\site-packages\\keras\\engine\\training.py\", line 1222, in run_step  **\n        outputs = model.train_step(data)\n    File \"C:\\Users\\moham\\AppData\\Roaming\\Python\\Python39\\site-packages\\keras\\engine\\training.py\", line 1023, in train_step\n        y_pred = self(x, training=True)\n    File \"C:\\Users\\moham\\AppData\\Roaming\\Python\\Python39\\site-packages\\keras\\utils\\traceback_utils.py\", line 70, in error_handler\n        raise e.with_traceback(filtered_tb) from None\n    File \"C:\\Users\\moham\\AppData\\Roaming\\Python\\Python39\\site-packages\\keras\\engine\\input_spec.py\", line 295, in assert_input_compatibility\n        raise ValueError(\n\n    ValueError: Input 0 of layer \"sequential_2\" is incompatible with the layer: expected shape=(None, 30, 1662), found shape=(None, 1662)\n"
     ]
    }
   ],
   "source": [
    "model.fit(X_train, y_train, epochs=100, callbacks=[tb_callback])"
   ]
  }
 ],
 "metadata": {
  "kernelspec": {
   "display_name": "fyp2",
   "language": "python",
   "name": "python3"
  },
  "language_info": {
   "codemirror_mode": {
    "name": "ipython",
    "version": 3
   },
   "file_extension": ".py",
   "mimetype": "text/x-python",
   "name": "python",
   "nbconvert_exporter": "python",
   "pygments_lexer": "ipython3",
   "version": "3.9.15"
  },
  "orig_nbformat": 4,
  "vscode": {
   "interpreter": {
    "hash": "4200ce2b7de31ce83a82abb042c2a901ce0ba3628e07f7c25b1e4bd3a2668fe1"
   }
  }
 },
 "nbformat": 4,
 "nbformat_minor": 2
}
